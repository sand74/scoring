{
 "cells": [
  {
   "cell_type": "markdown",
   "metadata": {
    "papermill": {
     "duration": 0.092626,
     "end_time": "2021-07-22T15:29:22.275012",
     "exception": false,
     "start_time": "2021-07-22T15:29:22.182386",
     "status": "completed"
    },
    "tags": []
   },
   "source": [
    "# Компьютер говорит \"Нет\""
   ]
  },
  {
   "cell_type": "code",
   "execution_count": 1,
   "metadata": {
    "execution": {
     "iopub.execute_input": "2021-07-26T13:22:05.956477Z",
     "iopub.status.busy": "2021-07-26T13:22:05.956066Z",
     "iopub.status.idle": "2021-07-26T13:22:05.977001Z",
     "shell.execute_reply": "2021-07-26T13:22:05.976019Z",
     "shell.execute_reply.started": "2021-07-26T13:22:05.956443Z"
    },
    "papermill": {
     "duration": 2.671322,
     "end_time": "2021-07-22T15:29:25.035229",
     "exception": false,
     "start_time": "2021-07-22T15:29:22.363907",
     "status": "completed"
    },
    "tags": []
   },
   "outputs": [],
   "source": [
    "import random\n",
    "from statsmodels.stats.multitest import multipletests\n",
    "import os.path\n",
    "import pandas_profiling\n",
    "from scipy import stats\n",
    "import itertools as it\n",
    "from collections import Counter\n",
    "from datetime import datetime, timedelta\n",
    "import re\n",
    "from sklearn.metrics import auc, roc_auc_score, roc_curve, recall_score\n",
    "from sklearn.metrics import f1_score, accuracy_score, precision_score\n",
    "from sklearn.metrics import confusion_matrix, ConfusionMatrixDisplay\n",
    "from sklearn.linear_model import LogisticRegression, LogisticRegressionCV\n",
    "from sklearn.model_selection import train_test_split\n",
    "from sklearn.preprocessing import LabelEncoder, OneHotEncoder, StandardScaler, OrdinalEncoder\n",
    "from sklearn import preprocessing\n",
    "from sklearn.feature_selection import f_classif, mutual_info_classif\n",
    "from sklearn.base import BaseEstimator\n",
    "from sklearn import pipeline\n",
    "from pandas import Series\n",
    "import pandas as pd\n",
    "import numpy as np\n",
    "from sklearn.model_selection import GridSearchCV, RandomizedSearchCV\n",
    "from sklearn.ensemble import GradientBoostingClassifier\n",
    "from xgboost import XGBClassifier\n",
    "from catboost import CatBoostClassifier\n",
    "from sklearn.ensemble import RandomForestClassifier\n",
    "\n",
    "\n",
    "import copy\n",
    "\n",
    "import matplotlib.pyplot as plt\n",
    "import seaborn as sns\n",
    "%matplotlib inline"
   ]
  },
  {
   "cell_type": "markdown",
   "metadata": {
    "papermill": {
     "duration": 0.087036,
     "end_time": "2021-07-22T15:29:25.207956",
     "exception": false,
     "start_time": "2021-07-22T15:29:25.12092",
     "status": "completed"
    },
    "tags": []
   },
   "source": [
    "## Задача\n",
    "Построить скоринг модель для вторичных клиентов банка, которая бы предсказывала вероятность дефолта клиента. Для этого нужно будет определить значимые параметры заемщика."
   ]
  },
  {
   "cell_type": "markdown",
   "metadata": {
    "papermill": {
     "duration": 0.08616,
     "end_time": "2021-07-22T15:29:25.381466",
     "exception": false,
     "start_time": "2021-07-22T15:29:25.295306",
     "status": "completed"
    },
    "tags": []
   },
   "source": [
    "## Данные\n",
    "### Предоставлена информация из анкетных данных заемщиков и факт наличия дефолта.\n",
    "\n",
    "| Признак | Описание |\n",
    "| :--- | :--- | \n",
    "| client_id | идентификатор клиента |\n",
    "| education | уровень образования |\n",
    "| sex | пол заёмщика |\n",
    "| age | возраст заёмщика |\n",
    "| car | флаг наличия автомобиля |\n",
    "| car_type | флаг автомобиля-иномарки |\n",
    "| decline_app_cnt | количество отказанных прошлых заявок |\n",
    "| good_work | флаг наличия «хорошей» работы |\n",
    "| bki_request_cnt | количество запросов в БКИ |\n",
    "| home_address | категоризатор домашнего адреса |\n",
    "| work_address | категоризатор рабочего адреса |\n",
    "| income | доход заёмщика |\n",
    "| foreign_passport | наличие загранпаспорта |\n",
    "| sna | связь заемщика с клиентами банка |\n",
    "| first_time | давность наличия информации о заемщике |\n",
    "| score_bki | скоринговый балл по данным из БКИ |\n",
    "| region_rating | рейтинг региона |\n",
    "| app_date | дата подачи заявки |\n",
    "| default | наличие дефолта |"
   ]
  },
  {
   "cell_type": "markdown",
   "metadata": {
    "papermill": {
     "duration": 0.08464,
     "end_time": "2021-07-22T15:29:25.552416",
     "exception": false,
     "start_time": "2021-07-22T15:29:25.467776",
     "status": "completed"
    },
    "tags": []
   },
   "source": [
    "### Посмотрим на данные\n",
    "<a id='load_data'></a>"
   ]
  },
  {
   "cell_type": "code",
   "execution_count": 2,
   "metadata": {
    "execution": {
     "iopub.execute_input": "2021-07-26T13:22:06.117884Z",
     "iopub.status.busy": "2021-07-26T13:22:06.117539Z",
     "iopub.status.idle": "2021-07-26T13:22:06.277571Z",
     "shell.execute_reply": "2021-07-26T13:22:06.276552Z",
     "shell.execute_reply.started": "2021-07-26T13:22:06.117854Z"
    },
    "papermill": {
     "duration": 0.324761,
     "end_time": "2021-07-22T15:29:25.961449",
     "exception": false,
     "start_time": "2021-07-22T15:29:25.636688",
     "status": "completed"
    },
    "tags": []
   },
   "outputs": [
    {
     "ename": "FileNotFoundError",
     "evalue": "[Errno 2] No such file or directory: '../input/sf-dst-scoring/train.csv'",
     "output_type": "error",
     "traceback": [
      "\u001b[0;31m---------------------------------------------------------------------------\u001b[0m",
      "\u001b[0;31mFileNotFoundError\u001b[0m                         Traceback (most recent call last)",
      "\u001b[0;32m<ipython-input-2-4146f2cbd078>\u001b[0m in \u001b[0;36m<module>\u001b[0;34m\u001b[0m\n\u001b[0;32m----> 1\u001b[0;31m \u001b[0mtrain\u001b[0m \u001b[0;34m=\u001b[0m \u001b[0mpd\u001b[0m\u001b[0;34m.\u001b[0m\u001b[0mread_csv\u001b[0m\u001b[0;34m(\u001b[0m\u001b[0;34m'../input/sf-dst-scoring/train.csv'\u001b[0m\u001b[0;34m)\u001b[0m\u001b[0;34m\u001b[0m\u001b[0;34m\u001b[0m\u001b[0m\n\u001b[0m\u001b[1;32m      2\u001b[0m \u001b[0mtrain\u001b[0m\u001b[0;34m.\u001b[0m\u001b[0mhead\u001b[0m\u001b[0;34m(\u001b[0m\u001b[0;34m)\u001b[0m\u001b[0;34m\u001b[0m\u001b[0;34m\u001b[0m\u001b[0m\n",
      "\u001b[0;32m/opt/anaconda3/lib/python3.7/site-packages/pandas/io/parsers.py\u001b[0m in \u001b[0;36mread_csv\u001b[0;34m(filepath_or_buffer, sep, delimiter, header, names, index_col, usecols, squeeze, prefix, mangle_dupe_cols, dtype, engine, converters, true_values, false_values, skipinitialspace, skiprows, skipfooter, nrows, na_values, keep_default_na, na_filter, verbose, skip_blank_lines, parse_dates, infer_datetime_format, keep_date_col, date_parser, dayfirst, cache_dates, iterator, chunksize, compression, thousands, decimal, lineterminator, quotechar, quoting, doublequote, escapechar, comment, encoding, dialect, error_bad_lines, warn_bad_lines, delim_whitespace, low_memory, memory_map, float_precision, storage_options)\u001b[0m\n\u001b[1;32m    608\u001b[0m     \u001b[0mkwds\u001b[0m\u001b[0;34m.\u001b[0m\u001b[0mupdate\u001b[0m\u001b[0;34m(\u001b[0m\u001b[0mkwds_defaults\u001b[0m\u001b[0;34m)\u001b[0m\u001b[0;34m\u001b[0m\u001b[0;34m\u001b[0m\u001b[0m\n\u001b[1;32m    609\u001b[0m \u001b[0;34m\u001b[0m\u001b[0m\n\u001b[0;32m--> 610\u001b[0;31m     \u001b[0;32mreturn\u001b[0m \u001b[0m_read\u001b[0m\u001b[0;34m(\u001b[0m\u001b[0mfilepath_or_buffer\u001b[0m\u001b[0;34m,\u001b[0m \u001b[0mkwds\u001b[0m\u001b[0;34m)\u001b[0m\u001b[0;34m\u001b[0m\u001b[0;34m\u001b[0m\u001b[0m\n\u001b[0m\u001b[1;32m    611\u001b[0m \u001b[0;34m\u001b[0m\u001b[0m\n\u001b[1;32m    612\u001b[0m \u001b[0;34m\u001b[0m\u001b[0m\n",
      "\u001b[0;32m/opt/anaconda3/lib/python3.7/site-packages/pandas/io/parsers.py\u001b[0m in \u001b[0;36m_read\u001b[0;34m(filepath_or_buffer, kwds)\u001b[0m\n\u001b[1;32m    460\u001b[0m \u001b[0;34m\u001b[0m\u001b[0m\n\u001b[1;32m    461\u001b[0m     \u001b[0;31m# Create the parser.\u001b[0m\u001b[0;34m\u001b[0m\u001b[0;34m\u001b[0m\u001b[0;34m\u001b[0m\u001b[0m\n\u001b[0;32m--> 462\u001b[0;31m     \u001b[0mparser\u001b[0m \u001b[0;34m=\u001b[0m \u001b[0mTextFileReader\u001b[0m\u001b[0;34m(\u001b[0m\u001b[0mfilepath_or_buffer\u001b[0m\u001b[0;34m,\u001b[0m \u001b[0;34m**\u001b[0m\u001b[0mkwds\u001b[0m\u001b[0;34m)\u001b[0m\u001b[0;34m\u001b[0m\u001b[0;34m\u001b[0m\u001b[0m\n\u001b[0m\u001b[1;32m    463\u001b[0m \u001b[0;34m\u001b[0m\u001b[0m\n\u001b[1;32m    464\u001b[0m     \u001b[0;32mif\u001b[0m \u001b[0mchunksize\u001b[0m \u001b[0;32mor\u001b[0m \u001b[0miterator\u001b[0m\u001b[0;34m:\u001b[0m\u001b[0;34m\u001b[0m\u001b[0;34m\u001b[0m\u001b[0m\n",
      "\u001b[0;32m/opt/anaconda3/lib/python3.7/site-packages/pandas/io/parsers.py\u001b[0m in \u001b[0;36m__init__\u001b[0;34m(self, f, engine, **kwds)\u001b[0m\n\u001b[1;32m    817\u001b[0m             \u001b[0mself\u001b[0m\u001b[0;34m.\u001b[0m\u001b[0moptions\u001b[0m\u001b[0;34m[\u001b[0m\u001b[0;34m\"has_index_names\"\u001b[0m\u001b[0;34m]\u001b[0m \u001b[0;34m=\u001b[0m \u001b[0mkwds\u001b[0m\u001b[0;34m[\u001b[0m\u001b[0;34m\"has_index_names\"\u001b[0m\u001b[0;34m]\u001b[0m\u001b[0;34m\u001b[0m\u001b[0;34m\u001b[0m\u001b[0m\n\u001b[1;32m    818\u001b[0m \u001b[0;34m\u001b[0m\u001b[0m\n\u001b[0;32m--> 819\u001b[0;31m         \u001b[0mself\u001b[0m\u001b[0;34m.\u001b[0m\u001b[0m_engine\u001b[0m \u001b[0;34m=\u001b[0m \u001b[0mself\u001b[0m\u001b[0;34m.\u001b[0m\u001b[0m_make_engine\u001b[0m\u001b[0;34m(\u001b[0m\u001b[0mself\u001b[0m\u001b[0;34m.\u001b[0m\u001b[0mengine\u001b[0m\u001b[0;34m)\u001b[0m\u001b[0;34m\u001b[0m\u001b[0;34m\u001b[0m\u001b[0m\n\u001b[0m\u001b[1;32m    820\u001b[0m \u001b[0;34m\u001b[0m\u001b[0m\n\u001b[1;32m    821\u001b[0m     \u001b[0;32mdef\u001b[0m \u001b[0mclose\u001b[0m\u001b[0;34m(\u001b[0m\u001b[0mself\u001b[0m\u001b[0;34m)\u001b[0m\u001b[0;34m:\u001b[0m\u001b[0;34m\u001b[0m\u001b[0;34m\u001b[0m\u001b[0m\n",
      "\u001b[0;32m/opt/anaconda3/lib/python3.7/site-packages/pandas/io/parsers.py\u001b[0m in \u001b[0;36m_make_engine\u001b[0;34m(self, engine)\u001b[0m\n\u001b[1;32m   1048\u001b[0m             )\n\u001b[1;32m   1049\u001b[0m         \u001b[0;31m# error: Too many arguments for \"ParserBase\"\u001b[0m\u001b[0;34m\u001b[0m\u001b[0;34m\u001b[0m\u001b[0;34m\u001b[0m\u001b[0m\n\u001b[0;32m-> 1050\u001b[0;31m         \u001b[0;32mreturn\u001b[0m \u001b[0mmapping\u001b[0m\u001b[0;34m[\u001b[0m\u001b[0mengine\u001b[0m\u001b[0;34m]\u001b[0m\u001b[0;34m(\u001b[0m\u001b[0mself\u001b[0m\u001b[0;34m.\u001b[0m\u001b[0mf\u001b[0m\u001b[0;34m,\u001b[0m \u001b[0;34m**\u001b[0m\u001b[0mself\u001b[0m\u001b[0;34m.\u001b[0m\u001b[0moptions\u001b[0m\u001b[0;34m)\u001b[0m  \u001b[0;31m# type: ignore[call-arg]\u001b[0m\u001b[0;34m\u001b[0m\u001b[0;34m\u001b[0m\u001b[0m\n\u001b[0m\u001b[1;32m   1051\u001b[0m \u001b[0;34m\u001b[0m\u001b[0m\n\u001b[1;32m   1052\u001b[0m     \u001b[0;32mdef\u001b[0m \u001b[0m_failover_to_python\u001b[0m\u001b[0;34m(\u001b[0m\u001b[0mself\u001b[0m\u001b[0;34m)\u001b[0m\u001b[0;34m:\u001b[0m\u001b[0;34m\u001b[0m\u001b[0;34m\u001b[0m\u001b[0m\n",
      "\u001b[0;32m/opt/anaconda3/lib/python3.7/site-packages/pandas/io/parsers.py\u001b[0m in \u001b[0;36m__init__\u001b[0;34m(self, src, **kwds)\u001b[0m\n\u001b[1;32m   1865\u001b[0m \u001b[0;34m\u001b[0m\u001b[0m\n\u001b[1;32m   1866\u001b[0m         \u001b[0;31m# open handles\u001b[0m\u001b[0;34m\u001b[0m\u001b[0;34m\u001b[0m\u001b[0;34m\u001b[0m\u001b[0m\n\u001b[0;32m-> 1867\u001b[0;31m         \u001b[0mself\u001b[0m\u001b[0;34m.\u001b[0m\u001b[0m_open_handles\u001b[0m\u001b[0;34m(\u001b[0m\u001b[0msrc\u001b[0m\u001b[0;34m,\u001b[0m \u001b[0mkwds\u001b[0m\u001b[0;34m)\u001b[0m\u001b[0;34m\u001b[0m\u001b[0;34m\u001b[0m\u001b[0m\n\u001b[0m\u001b[1;32m   1868\u001b[0m         \u001b[0;32massert\u001b[0m \u001b[0mself\u001b[0m\u001b[0;34m.\u001b[0m\u001b[0mhandles\u001b[0m \u001b[0;32mis\u001b[0m \u001b[0;32mnot\u001b[0m \u001b[0;32mNone\u001b[0m\u001b[0;34m\u001b[0m\u001b[0;34m\u001b[0m\u001b[0m\n\u001b[1;32m   1869\u001b[0m         \u001b[0;32mfor\u001b[0m \u001b[0mkey\u001b[0m \u001b[0;32min\u001b[0m \u001b[0;34m(\u001b[0m\u001b[0;34m\"storage_options\"\u001b[0m\u001b[0;34m,\u001b[0m \u001b[0;34m\"encoding\"\u001b[0m\u001b[0;34m,\u001b[0m \u001b[0;34m\"memory_map\"\u001b[0m\u001b[0;34m,\u001b[0m \u001b[0;34m\"compression\"\u001b[0m\u001b[0;34m)\u001b[0m\u001b[0;34m:\u001b[0m\u001b[0;34m\u001b[0m\u001b[0;34m\u001b[0m\u001b[0m\n",
      "\u001b[0;32m/opt/anaconda3/lib/python3.7/site-packages/pandas/io/parsers.py\u001b[0m in \u001b[0;36m_open_handles\u001b[0;34m(self, src, kwds)\u001b[0m\n\u001b[1;32m   1366\u001b[0m             \u001b[0mcompression\u001b[0m\u001b[0;34m=\u001b[0m\u001b[0mkwds\u001b[0m\u001b[0;34m.\u001b[0m\u001b[0mget\u001b[0m\u001b[0;34m(\u001b[0m\u001b[0;34m\"compression\"\u001b[0m\u001b[0;34m,\u001b[0m \u001b[0;32mNone\u001b[0m\u001b[0;34m)\u001b[0m\u001b[0;34m,\u001b[0m\u001b[0;34m\u001b[0m\u001b[0;34m\u001b[0m\u001b[0m\n\u001b[1;32m   1367\u001b[0m             \u001b[0mmemory_map\u001b[0m\u001b[0;34m=\u001b[0m\u001b[0mkwds\u001b[0m\u001b[0;34m.\u001b[0m\u001b[0mget\u001b[0m\u001b[0;34m(\u001b[0m\u001b[0;34m\"memory_map\"\u001b[0m\u001b[0;34m,\u001b[0m \u001b[0;32mFalse\u001b[0m\u001b[0;34m)\u001b[0m\u001b[0;34m,\u001b[0m\u001b[0;34m\u001b[0m\u001b[0;34m\u001b[0m\u001b[0m\n\u001b[0;32m-> 1368\u001b[0;31m             \u001b[0mstorage_options\u001b[0m\u001b[0;34m=\u001b[0m\u001b[0mkwds\u001b[0m\u001b[0;34m.\u001b[0m\u001b[0mget\u001b[0m\u001b[0;34m(\u001b[0m\u001b[0;34m\"storage_options\"\u001b[0m\u001b[0;34m,\u001b[0m \u001b[0;32mNone\u001b[0m\u001b[0;34m)\u001b[0m\u001b[0;34m,\u001b[0m\u001b[0;34m\u001b[0m\u001b[0;34m\u001b[0m\u001b[0m\n\u001b[0m\u001b[1;32m   1369\u001b[0m         )\n\u001b[1;32m   1370\u001b[0m \u001b[0;34m\u001b[0m\u001b[0m\n",
      "\u001b[0;32m/opt/anaconda3/lib/python3.7/site-packages/pandas/io/common.py\u001b[0m in \u001b[0;36mget_handle\u001b[0;34m(path_or_buf, mode, encoding, compression, memory_map, is_text, errors, storage_options)\u001b[0m\n\u001b[1;32m    645\u001b[0m                 \u001b[0mencoding\u001b[0m\u001b[0;34m=\u001b[0m\u001b[0mioargs\u001b[0m\u001b[0;34m.\u001b[0m\u001b[0mencoding\u001b[0m\u001b[0;34m,\u001b[0m\u001b[0;34m\u001b[0m\u001b[0;34m\u001b[0m\u001b[0m\n\u001b[1;32m    646\u001b[0m                 \u001b[0merrors\u001b[0m\u001b[0;34m=\u001b[0m\u001b[0merrors\u001b[0m\u001b[0;34m,\u001b[0m\u001b[0;34m\u001b[0m\u001b[0;34m\u001b[0m\u001b[0m\n\u001b[0;32m--> 647\u001b[0;31m                 \u001b[0mnewline\u001b[0m\u001b[0;34m=\u001b[0m\u001b[0;34m\"\"\u001b[0m\u001b[0;34m,\u001b[0m\u001b[0;34m\u001b[0m\u001b[0;34m\u001b[0m\u001b[0m\n\u001b[0m\u001b[1;32m    648\u001b[0m             )\n\u001b[1;32m    649\u001b[0m         \u001b[0;32melse\u001b[0m\u001b[0;34m:\u001b[0m\u001b[0;34m\u001b[0m\u001b[0;34m\u001b[0m\u001b[0m\n",
      "\u001b[0;31mFileNotFoundError\u001b[0m: [Errno 2] No such file or directory: '../input/sf-dst-scoring/train.csv'"
     ]
    }
   ],
   "source": [
    "train = pd.read_csv('../input/sf-dst-scoring/train.csv')\n",
    "train.head()"
   ]
  },
  {
   "cell_type": "code",
   "execution_count": null,
   "metadata": {
    "execution": {
     "iopub.execute_input": "2021-07-26T13:22:06.279315Z",
     "iopub.status.busy": "2021-07-26T13:22:06.279005Z",
     "iopub.status.idle": "2021-07-26T13:22:06.312332Z",
     "shell.execute_reply": "2021-07-26T13:22:06.311362Z",
     "shell.execute_reply.started": "2021-07-26T13:22:06.279286Z"
    },
    "papermill": {
     "duration": 0.126355,
     "end_time": "2021-07-22T15:29:26.173992",
     "exception": false,
     "start_time": "2021-07-22T15:29:26.047637",
     "status": "completed"
    },
    "tags": []
   },
   "outputs": [],
   "source": [
    "# Дата представлена в формате %d%b%Y - сразу переведем в тип datetime\n",
    "train['app_date'] = pd.to_datetime(train['app_date'])"
   ]
  },
  {
   "cell_type": "code",
   "execution_count": null,
   "metadata": {
    "execution": {
     "iopub.execute_input": "2021-07-26T13:22:06.313995Z",
     "iopub.status.busy": "2021-07-26T13:22:06.313705Z",
     "iopub.status.idle": "2021-07-26T13:22:06.366324Z",
     "shell.execute_reply": "2021-07-26T13:22:06.365622Z",
     "shell.execute_reply.started": "2021-07-26T13:22:06.313967Z"
    },
    "papermill": {
     "duration": 0.146473,
     "end_time": "2021-07-22T15:29:26.406139",
     "exception": false,
     "start_time": "2021-07-22T15:29:26.259666",
     "status": "completed"
    },
    "tags": []
   },
   "outputs": [],
   "source": [
    "train.info()"
   ]
  },
  {
   "cell_type": "code",
   "execution_count": null,
   "metadata": {
    "execution": {
     "iopub.execute_input": "2021-07-26T13:22:06.367846Z",
     "iopub.status.busy": "2021-07-26T13:22:06.367437Z",
     "iopub.status.idle": "2021-07-26T13:22:06.450591Z",
     "shell.execute_reply": "2021-07-26T13:22:06.449853Z",
     "shell.execute_reply.started": "2021-07-26T13:22:06.367815Z"
    },
    "papermill": {
     "duration": 0.16683,
     "end_time": "2021-07-22T15:29:26.660589",
     "exception": false,
     "start_time": "2021-07-22T15:29:26.493759",
     "status": "completed"
    },
    "tags": []
   },
   "outputs": [],
   "source": [
    "train.describe(datetime_is_numeric=True).transpose()"
   ]
  },
  {
   "cell_type": "code",
   "execution_count": null,
   "metadata": {
    "execution": {
     "iopub.execute_input": "2021-07-26T13:22:06.452273Z",
     "iopub.status.busy": "2021-07-26T13:22:06.451855Z",
     "iopub.status.idle": "2021-07-26T13:22:06.606580Z",
     "shell.execute_reply": "2021-07-26T13:22:06.605328Z",
     "shell.execute_reply.started": "2021-07-26T13:22:06.452243Z"
    },
    "papermill": {
     "duration": 0.252093,
     "end_time": "2021-07-22T15:29:26.99853",
     "exception": false,
     "start_time": "2021-07-22T15:29:26.746437",
     "status": "completed"
    },
    "tags": []
   },
   "outputs": [],
   "source": [
    "train.describe(exclude=[np.number, np.datetime64],\n",
    "               datetime_is_numeric=True).transpose()"
   ]
  },
  {
   "cell_type": "markdown",
   "metadata": {
    "papermill": {
     "duration": 0.091156,
     "end_time": "2021-07-22T15:29:27.181367",
     "exception": false,
     "start_time": "2021-07-22T15:29:27.090211",
     "status": "completed"
    },
    "tags": []
   },
   "source": [
    "##### Промежуточные выводы\n",
    "Данные представлены за период с 2014-01-01 по 2014-04-30, кол-во записей - 73799, только столбец education имеет пропуски."
   ]
  },
  {
   "cell_type": "markdown",
   "metadata": {
    "papermill": {
     "duration": 0.088208,
     "end_time": "2021-07-22T15:29:27.358979",
     "exception": false,
     "start_time": "2021-07-22T15:29:27.270771",
     "status": "completed"
    },
    "tags": []
   },
   "source": [
    "## EDA\n",
    "<a id='eda'></a>\n",
    "[Goto data load](#load_data)"
   ]
  },
  {
   "cell_type": "markdown",
   "metadata": {
    "papermill": {
     "duration": 0.088093,
     "end_time": "2021-07-22T15:29:27.537104",
     "exception": false,
     "start_time": "2021-07-22T15:29:27.449011",
     "status": "completed"
    },
    "tags": []
   },
   "source": [
    "### Для начала поробуем pandas_profiling"
   ]
  },
  {
   "cell_type": "code",
   "execution_count": null,
   "metadata": {
    "execution": {
     "iopub.execute_input": "2021-07-26T13:22:06.609449Z",
     "iopub.status.busy": "2021-07-26T13:22:06.608929Z",
     "iopub.status.idle": "2021-07-26T13:22:06.618183Z",
     "shell.execute_reply": "2021-07-26T13:22:06.615152Z",
     "shell.execute_reply.started": "2021-07-26T13:22:06.609410Z"
    },
    "papermill": {
     "duration": 39.219002,
     "end_time": "2021-07-22T15:30:06.844737",
     "exception": false,
     "start_time": "2021-07-22T15:29:27.625735",
     "status": "completed"
    },
    "tags": []
   },
   "outputs": [],
   "source": [
    "# для того, чтобы предотвратить повторный вызов профайлера, проверим наличие результатов его работы\n",
    "if not os.path.exists('eda_profiling.html'):\n",
    "    profile = pandas_profiling.ProfileReport(\n",
    "        train, title='Credit scoring profiler report', explorative=True)\n",
    "    profile.to_file('eda_profiling.html')"
   ]
  },
  {
   "cell_type": "markdown",
   "metadata": {
    "papermill": {
     "duration": 0.094,
     "end_time": "2021-07-22T15:30:07.039031",
     "exception": false,
     "start_time": "2021-07-22T15:30:06.945031",
     "status": "completed"
    },
    "tags": []
   },
   "source": [
    "[EDA profiling output](eda_profiling.html)"
   ]
  },
  {
   "cell_type": "markdown",
   "metadata": {
    "papermill": {
     "duration": 0.092738,
     "end_time": "2021-07-22T15:30:07.22527",
     "exception": false,
     "start_time": "2021-07-22T15:30:07.132532",
     "status": "completed"
    },
    "tags": []
   },
   "source": [
    "##### Промежуточные выводы\n",
    "* client_id - полностью уникальный идентификатор - исключить\n",
    "* education - имеет пропуски (307, <0.1%) - заменить пропуски на UNK\n",
    "* age - имеется несколько экстремально старых клиентов, распределение скошено влево - изучить подробнее\n",
    "* car и car_type - посмотреть есть ли записи с car=N и car_type=Y (не может быть), так же обнаружена корреляция крамера для этх признаков\n",
    "* decline_app_cnt - имеются клиенты с количеством отказов больше 20 - изучить подробнее\n",
    "* bki_request_cnt - имеются записи с экстремально большими значениями - изучить подробнее\n",
    "* income - имеется несколько клиентов с очень большим и очень маленьким доходом, распределение сильно скошено влево - log и изучить подробнее\n"
   ]
  },
  {
   "cell_type": "code",
   "execution_count": null,
   "metadata": {
    "execution": {
     "iopub.execute_input": "2021-07-26T13:22:06.621818Z",
     "iopub.status.busy": "2021-07-26T13:22:06.621270Z",
     "iopub.status.idle": "2021-07-26T13:22:06.647312Z",
     "shell.execute_reply": "2021-07-26T13:22:06.645827Z",
     "shell.execute_reply.started": "2021-07-26T13:22:06.621766Z"
    },
    "papermill": {
     "duration": 0.114081,
     "end_time": "2021-07-22T15:30:07.432091",
     "exception": false,
     "start_time": "2021-07-22T15:30:07.31801",
     "status": "completed"
    },
    "tags": []
   },
   "outputs": [],
   "source": [
    "def outliers(df, feature):\n",
    "    # Интерквартильный размах\n",
    "    perc25 = df[feature].quantile(0.25)\n",
    "    perc75 = df[feature].quantile(0.75)\n",
    "    IQR = perc75 - perc25\n",
    "    low, high = (perc25 - 1.5 * IQR, perc75 + 1.5 * IQR)\n",
    "    print(\n",
    "        f'25-й перцентиль: {perc25}, 75-й перцентиль: {perc75}, IQR: {IQR}, Границы выбросов: [{low}, {high}]')\n",
    "    return df[(df[feature] < low) | (df[feature] > high)]\n",
    "\n",
    "\n",
    "def get_stat_dif(df, feature, target, dropna=True, check=True, alpha=0.5):\n",
    "    cols = df.loc[:, feature].value_counts(dropna=dropna).index\n",
    "    combinations_all = list(it.combinations(cols, 2))\n",
    "    p_values = []\n",
    "    p_combs = []\n",
    "    bonferony = []\n",
    "    for comb in combinations_all:\n",
    "        len0 = len(df.loc[df.loc[:, feature] == comb[0]])\n",
    "        len1 = len(df.loc[df.loc[:, feature] == comb[1]])\n",
    "        if check and len(df.loc[df.loc[:, feature] == comb[0]]) < 30:\n",
    "            msg = 'Количество значений {} ({}) = {} (<30) тест стьюдента может дать некорректные результаты'.format(\n",
    "                feature, comb[0], len0)\n",
    "#            raise Exception(msg)\n",
    "            continue\n",
    "        if check and len(df.loc[df.loc[:, feature] == comb[1]]) < 30:\n",
    "            msg = 'Количество значений {} ({}) = {} (<30) тест стьюдента может дать некорректные результаты'.format(\n",
    "                feature, comb[1], len1)\n",
    "#            raise Exception(msg)\n",
    "            continue\n",
    "        res = stats.ttest_ind(df.loc[df.loc[:, feature] == comb[0], target],\n",
    "                              df.loc[df.loc[:, feature] == comb[1], target])\n",
    "        p_combs.append(comb)\n",
    "        p_values.append(res.pvalue)\n",
    "        # Учли поправку Бонферони\n",
    "        if res.pvalue <= alpha / len(combinations_all):\n",
    "            print(\n",
    "                f'Найдены статистически значимые различия для {feature} (поправка Бонферони)  комбинация {comb} p-value {res.pvalue}')\n",
    "            bonferony.append(comb)\n",
    "\n",
    "    res = multipletests(p_values, alpha=alpha, method='holm-sidak')\n",
    "    rejected = []\n",
    "    for i in range(0, len(res[0])):\n",
    "        if res[0][i] == True:  # Гипотеза отвергается\n",
    "            #            print(f'Найдены статистически значимые различия для {feature} (поправка Холм-Сидака)  комбинация {p_combs[i]} p-value {p_values[i]}')\n",
    "            #            print(p_combs[i], p_values[i], res[0][i])\n",
    "            rejected.append(p_combs[i])\n",
    "    return (rejected, bonferony)"
   ]
  },
  {
   "cell_type": "markdown",
   "metadata": {
    "papermill": {
     "duration": 0.092593,
     "end_time": "2021-07-22T15:30:07.619523",
     "exception": false,
     "start_time": "2021-07-22T15:30:07.52693",
     "status": "completed"
    },
    "tags": []
   },
   "source": [
    "### Age"
   ]
  },
  {
   "cell_type": "code",
   "execution_count": null,
   "metadata": {
    "execution": {
     "iopub.execute_input": "2021-07-26T13:22:06.651835Z",
     "iopub.status.busy": "2021-07-26T13:22:06.651190Z",
     "iopub.status.idle": "2021-07-26T13:22:06.838388Z",
     "shell.execute_reply": "2021-07-26T13:22:06.837153Z",
     "shell.execute_reply.started": "2021-07-26T13:22:06.651784Z"
    },
    "papermill": {
     "duration": 0.299609,
     "end_time": "2021-07-22T15:30:08.011717",
     "exception": false,
     "start_time": "2021-07-22T15:30:07.712108",
     "status": "completed"
    },
    "tags": []
   },
   "outputs": [],
   "source": [
    "display(outliers(train, 'age'))\n",
    "_ = sns.boxplot(x='default', y='age', data=train)"
   ]
  },
  {
   "cell_type": "code",
   "execution_count": null,
   "metadata": {
    "execution": {
     "iopub.execute_input": "2021-07-26T13:22:06.840387Z",
     "iopub.status.busy": "2021-07-26T13:22:06.840049Z",
     "iopub.status.idle": "2021-07-26T13:22:06.845641Z",
     "shell.execute_reply": "2021-07-26T13:22:06.844336Z",
     "shell.execute_reply.started": "2021-07-26T13:22:06.840355Z"
    },
    "papermill": {
     "duration": 0.102699,
     "end_time": "2021-07-22T15:30:08.209408",
     "exception": false,
     "start_time": "2021-07-22T15:30:08.106709",
     "status": "completed"
    },
    "tags": []
   },
   "outputs": [],
   "source": [
    "# Вроде выбросов нет - оставляем"
   ]
  },
  {
   "cell_type": "code",
   "execution_count": null,
   "metadata": {
    "execution": {
     "iopub.execute_input": "2021-07-26T13:22:06.848021Z",
     "iopub.status.busy": "2021-07-26T13:22:06.847703Z",
     "iopub.status.idle": "2021-07-26T13:22:09.802029Z",
     "shell.execute_reply": "2021-07-26T13:22:09.801089Z",
     "shell.execute_reply.started": "2021-07-26T13:22:06.847992Z"
    },
    "papermill": {
     "duration": 3.107159,
     "end_time": "2021-07-22T15:30:11.41236",
     "exception": false,
     "start_time": "2021-07-22T15:30:08.305201",
     "status": "completed"
    },
    "tags": []
   },
   "outputs": [],
   "source": [
    "# У age большой правый хвост - попробуем исправить \n",
    "fig, ax = plt.subplots(nrows=2, ncols=2)\n",
    "fig.set_size_inches(16, 10)\n",
    "ax[0][0].set_title('Source')\n",
    "_ = sns.histplot(train['age'], fill=True, kde=True, bins=30, ax=ax[0][0])\n",
    "ax[0][1].set_title('Log')\n",
    "_ = sns.histplot(np.log(train['age']), fill=True, kde=True, bins=30, ax=ax[0][1])\n",
    "ax[1][0].set_title('Sqrt')\n",
    "_ = sns.histplot(np.sqrt(train['age']), fill=True, kde=True, bins=30, ax=ax[1][0])\n",
    "ax[1][1].set_title('BoxCox')\n",
    "_ = sns.histplot(stats.boxcox(train['age'])[0], fill=True, kde=True, bins=30, ax=ax[1][1])\n"
   ]
  },
  {
   "cell_type": "code",
   "execution_count": null,
   "metadata": {
    "execution": {
     "iopub.execute_input": "2021-07-26T13:22:09.803849Z",
     "iopub.status.busy": "2021-07-26T13:22:09.803569Z",
     "iopub.status.idle": "2021-07-26T13:22:09.819207Z",
     "shell.execute_reply": "2021-07-26T13:22:09.817987Z",
     "shell.execute_reply.started": "2021-07-26T13:22:09.803822Z"
    },
    "papermill": {
     "duration": 0.115453,
     "end_time": "2021-07-22T15:30:11.625637",
     "exception": false,
     "start_time": "2021-07-22T15:30:11.510184",
     "status": "completed"
    },
    "tags": []
   },
   "outputs": [],
   "source": [
    "print('normality =', stats.normaltest(np.log(train['age'])))\n",
    "stat, p = stats.shapiro(train['age'].sample(5000)) # тест Шапиро-Уилк\n",
    "print('Шапиро-Уилк = Statistics=%.3f, p-value=%.10f' % (stat, p))"
   ]
  },
  {
   "cell_type": "code",
   "execution_count": null,
   "metadata": {
    "execution": {
     "iopub.execute_input": "2021-07-26T13:22:09.821106Z",
     "iopub.status.busy": "2021-07-26T13:22:09.820692Z",
     "iopub.status.idle": "2021-07-26T13:22:09.825387Z",
     "shell.execute_reply": "2021-07-26T13:22:09.824305Z",
     "shell.execute_reply.started": "2021-07-26T13:22:09.821062Z"
    },
    "papermill": {
     "duration": 0.104146,
     "end_time": "2021-07-22T15:30:11.829196",
     "exception": false,
     "start_time": "2021-07-22T15:30:11.72505",
     "status": "completed"
    },
    "tags": []
   },
   "outputs": [],
   "source": [
    "# После логарифмирования стало больше похоже на нормальное, но все равно далеко от него"
   ]
  },
  {
   "cell_type": "markdown",
   "metadata": {
    "papermill": {
     "duration": 0.09716,
     "end_time": "2021-07-22T15:30:12.02527",
     "exception": false,
     "start_time": "2021-07-22T15:30:11.92811",
     "status": "completed"
    },
    "tags": []
   },
   "source": [
    "### Car и car_type"
   ]
  },
  {
   "cell_type": "code",
   "execution_count": null,
   "metadata": {
    "execution": {
     "iopub.execute_input": "2021-07-26T13:22:09.827429Z",
     "iopub.status.busy": "2021-07-26T13:22:09.826813Z",
     "iopub.status.idle": "2021-07-26T13:22:09.877206Z",
     "shell.execute_reply": "2021-07-26T13:22:09.876230Z",
     "shell.execute_reply.started": "2021-07-26T13:22:09.827385Z"
    },
    "papermill": {
     "duration": 0.13434,
     "end_time": "2021-07-22T15:30:12.256602",
     "exception": false,
     "start_time": "2021-07-22T15:30:12.122262",
     "status": "completed"
    },
    "tags": []
   },
   "outputs": [],
   "source": [
    "train[(train['car'] == 'N') & (train['car_type'] == 'Y')]\n",
    "# Клиентов у которых нет машины и одновременно есть иномарка нет - не все в порядке"
   ]
  },
  {
   "cell_type": "code",
   "execution_count": null,
   "metadata": {
    "execution": {
     "iopub.execute_input": "2021-07-26T13:22:09.879518Z",
     "iopub.status.busy": "2021-07-26T13:22:09.879238Z",
     "iopub.status.idle": "2021-07-26T13:22:10.278365Z",
     "shell.execute_reply": "2021-07-26T13:22:10.277434Z",
     "shell.execute_reply.started": "2021-07-26T13:22:09.879491Z"
    },
    "papermill": {
     "duration": 0.49056,
     "end_time": "2021-07-22T15:30:12.84442",
     "exception": false,
     "start_time": "2021-07-22T15:30:12.35386",
     "status": "completed"
    },
    "tags": []
   },
   "outputs": [],
   "source": [
    "plt.figure(figsize=(16, 5))\n",
    "plt.subplot(121)\n",
    "_ = sns.countplot(x='car', data=train)\n",
    "plt.subplot(122)\n",
    "_ = sns.countplot(x='car_type', data=train)"
   ]
  },
  {
   "cell_type": "code",
   "execution_count": null,
   "metadata": {
    "execution": {
     "iopub.execute_input": "2021-07-26T13:22:10.280360Z",
     "iopub.status.busy": "2021-07-26T13:22:10.280050Z",
     "iopub.status.idle": "2021-07-26T13:22:10.345824Z",
     "shell.execute_reply": "2021-07-26T13:22:10.344886Z",
     "shell.execute_reply.started": "2021-07-26T13:22:10.280331Z"
    },
    "papermill": {
     "duration": 0.16268,
     "end_time": "2021-07-22T15:30:13.10355",
     "exception": false,
     "start_time": "2021-07-22T15:30:12.94087",
     "status": "completed"
    },
    "tags": []
   },
   "outputs": [],
   "source": [
    "# Посмотрим на числовые значения корреляции\n",
    "temp = train[['car', 'car_type']].copy()\n",
    "temp['car'] = LabelEncoder().fit_transform(temp['car'])\n",
    "temp['car_type'] = LabelEncoder().fit_transform(temp['car_type'])\n",
    "temp.corr()"
   ]
  },
  {
   "cell_type": "markdown",
   "metadata": {
    "papermill": {
     "duration": 0.097484,
     "end_time": "2021-07-22T15:30:13.298441",
     "exception": false,
     "start_time": "2021-07-22T15:30:13.200957",
     "status": "completed"
    },
    "tags": []
   },
   "source": [
    "### Decline_app_cnt"
   ]
  },
  {
   "cell_type": "code",
   "execution_count": null,
   "metadata": {
    "execution": {
     "iopub.execute_input": "2021-07-26T13:22:10.347365Z",
     "iopub.status.busy": "2021-07-26T13:22:10.347048Z",
     "iopub.status.idle": "2021-07-26T13:22:10.598503Z",
     "shell.execute_reply": "2021-07-26T13:22:10.597404Z",
     "shell.execute_reply.started": "2021-07-26T13:22:10.347335Z"
    },
    "papermill": {
     "duration": 0.340022,
     "end_time": "2021-07-22T15:30:13.736621",
     "exception": false,
     "start_time": "2021-07-22T15:30:13.396599",
     "status": "completed"
    },
    "tags": []
   },
   "outputs": [],
   "source": [
    "display(outliers(train, 'decline_app_cnt'))\n",
    "plt.figure(figsize=(10, 8))\n",
    "_ = sns.boxplot(x='default', y='decline_app_cnt', data=train)"
   ]
  },
  {
   "cell_type": "code",
   "execution_count": null,
   "metadata": {
    "execution": {
     "iopub.execute_input": "2021-07-26T13:22:10.600017Z",
     "iopub.status.busy": "2021-07-26T13:22:10.599729Z",
     "iopub.status.idle": "2021-07-26T13:22:10.606273Z",
     "shell.execute_reply": "2021-07-26T13:22:10.605301Z",
     "shell.execute_reply.started": "2021-07-26T13:22:10.599987Z"
    },
    "papermill": {
     "duration": 0.106246,
     "end_time": "2021-07-22T15:30:13.942447",
     "exception": false,
     "start_time": "2021-07-22T15:30:13.836201",
     "status": "completed"
    },
    "tags": []
   },
   "outputs": [],
   "source": [
    "# Очень много нулевых значений приводит к тому что все остальные помечаются как выбросы"
   ]
  },
  {
   "cell_type": "code",
   "execution_count": null,
   "metadata": {
    "execution": {
     "iopub.execute_input": "2021-07-26T13:22:10.607784Z",
     "iopub.status.busy": "2021-07-26T13:22:10.607385Z",
     "iopub.status.idle": "2021-07-26T13:22:11.003604Z",
     "shell.execute_reply": "2021-07-26T13:22:11.002572Z",
     "shell.execute_reply.started": "2021-07-26T13:22:10.607745Z"
    },
    "papermill": {
     "duration": 0.470229,
     "end_time": "2021-07-22T15:30:14.512795",
     "exception": false,
     "start_time": "2021-07-22T15:30:14.042566",
     "status": "completed"
    },
    "tags": []
   },
   "outputs": [],
   "source": [
    "plt.figure(figsize=(10, 8))\n",
    "train['decline_app_cnt'].hist(bins=100)"
   ]
  },
  {
   "cell_type": "code",
   "execution_count": null,
   "metadata": {
    "execution": {
     "iopub.execute_input": "2021-07-26T13:22:11.005625Z",
     "iopub.status.busy": "2021-07-26T13:22:11.005069Z",
     "iopub.status.idle": "2021-07-26T13:22:12.488639Z",
     "shell.execute_reply": "2021-07-26T13:22:12.487674Z",
     "shell.execute_reply.started": "2021-07-26T13:22:11.005582Z"
    },
    "papermill": {
     "duration": 1.558543,
     "end_time": "2021-07-22T15:30:16.172011",
     "exception": false,
     "start_time": "2021-07-22T15:30:14.613468",
     "status": "completed"
    },
    "tags": []
   },
   "outputs": [],
   "source": [
    "# У age большой правый хвост - попробуем исправить \n",
    "fig, ax = plt.subplots(nrows=2, ncols=2)\n",
    "fig.set_size_inches(16, 10)\n",
    "indices = train['decline_app_cnt'] > 0\n",
    "ax[0][0].set_title('Source')\n",
    "_ = sns.histplot(train.loc[indices, 'decline_app_cnt'], fill=True, kde=True, bins=30, ax=ax[0][0])\n",
    "ax[0][1].set_title('Log')\n",
    "_ = sns.histplot(np.log(train.loc[indices, 'decline_app_cnt']), fill=True, kde=True, bins=30, ax=ax[0][1])\n",
    "ax[1][0].set_title('Sqrt')\n",
    "_ = sns.histplot(np.sqrt(train.loc[indices, 'decline_app_cnt']), fill=True, kde=True, bins=30, ax=ax[1][0])\n",
    "ax[1][1].set_title('BoxCox')\n",
    "_ = sns.histplot(stats.boxcox(train.loc[indices, 'decline_app_cnt'])[0], fill=True, kde=True, bins=30, ax=ax[1][1])"
   ]
  },
  {
   "cell_type": "code",
   "execution_count": null,
   "metadata": {
    "execution": {
     "iopub.execute_input": "2021-07-26T13:22:12.490465Z",
     "iopub.status.busy": "2021-07-26T13:22:12.489876Z",
     "iopub.status.idle": "2021-07-26T13:22:12.494348Z",
     "shell.execute_reply": "2021-07-26T13:22:12.493366Z",
     "shell.execute_reply.started": "2021-07-26T13:22:12.490410Z"
    },
    "papermill": {
     "duration": 0.156636,
     "end_time": "2021-07-22T15:30:16.431284",
     "exception": false,
     "start_time": "2021-07-22T15:30:16.274648",
     "status": "completed"
    },
    "tags": []
   },
   "outputs": [],
   "source": [
    "# После преобразований лучше не стало"
   ]
  },
  {
   "cell_type": "code",
   "execution_count": null,
   "metadata": {
    "execution": {
     "iopub.execute_input": "2021-07-26T13:22:12.496026Z",
     "iopub.status.busy": "2021-07-26T13:22:12.495692Z",
     "iopub.status.idle": "2021-07-26T13:22:12.516258Z",
     "shell.execute_reply": "2021-07-26T13:22:12.514995Z",
     "shell.execute_reply.started": "2021-07-26T13:22:12.495994Z"
    },
    "papermill": {
     "duration": 0.117884,
     "end_time": "2021-07-22T15:30:16.652707",
     "exception": false,
     "start_time": "2021-07-22T15:30:16.534823",
     "status": "completed"
    },
    "tags": []
   },
   "outputs": [],
   "source": [
    "# Посмотрим есть ли влияние этих признаков на целевую переменную\n",
    "f, p = f_classif(train[['decline_app_cnt']], train['default'])\n",
    "print(f'F-statistic = {f[0]}, p-value = {p[0]}')"
   ]
  },
  {
   "cell_type": "code",
   "execution_count": null,
   "metadata": {
    "execution": {
     "iopub.execute_input": "2021-07-26T13:22:12.518259Z",
     "iopub.status.busy": "2021-07-26T13:22:12.517701Z",
     "iopub.status.idle": "2021-07-26T13:22:13.892972Z",
     "shell.execute_reply": "2021-07-26T13:22:13.892280Z",
     "shell.execute_reply.started": "2021-07-26T13:22:12.518158Z"
    },
    "papermill": {
     "duration": 0.338779,
     "end_time": "2021-07-22T15:30:17.09409",
     "exception": false,
     "start_time": "2021-07-22T15:30:16.755311",
     "status": "completed"
    },
    "tags": []
   },
   "outputs": [],
   "source": [
    "# Можно попробовать сгруппировать отказы 0, 1, 2, >2\n",
    "temp = train['decline_app_cnt'].apply(\n",
    "    lambda x: 0 if x == 0 else 1 if x == 1 else 2 if x == 2 else 3)\n",
    "#_ = sns.countplot(data=temp)\n",
    "temp.hist()"
   ]
  },
  {
   "cell_type": "markdown",
   "metadata": {
    "papermill": {
     "duration": 0.102587,
     "end_time": "2021-07-22T15:30:17.299514",
     "exception": false,
     "start_time": "2021-07-22T15:30:17.196927",
     "status": "completed"
    },
    "tags": []
   },
   "source": [
    "### Home_address и work_address"
   ]
  },
  {
   "cell_type": "code",
   "execution_count": null,
   "metadata": {
    "execution": {
     "iopub.execute_input": "2021-07-26T13:22:13.894536Z",
     "iopub.status.busy": "2021-07-26T13:22:13.894073Z",
     "iopub.status.idle": "2021-07-26T13:22:14.182158Z",
     "shell.execute_reply": "2021-07-26T13:22:14.181439Z",
     "shell.execute_reply.started": "2021-07-26T13:22:13.894490Z"
    },
    "papermill": {
     "duration": 0.387384,
     "end_time": "2021-07-22T15:30:17.791246",
     "exception": false,
     "start_time": "2021-07-22T15:30:17.403862",
     "status": "completed"
    },
    "tags": []
   },
   "outputs": [],
   "source": [
    "# В профайлере обнаружена корреляция между нome_address и work_address, посмотрим подробнее\n",
    "fig, ax = plt.subplots(figsize=(6, 6))\n",
    "sns.heatmap(train[['home_address', 'work_address', 'default']].corr().abs(), vmin=0, vmax=1, annot=True, square=True)"
   ]
  },
  {
   "cell_type": "code",
   "execution_count": null,
   "metadata": {
    "execution": {
     "iopub.execute_input": "2021-07-26T13:22:14.183455Z",
     "iopub.status.busy": "2021-07-26T13:22:14.183132Z",
     "iopub.status.idle": "2021-07-26T13:22:14.187477Z",
     "shell.execute_reply": "2021-07-26T13:22:14.186460Z",
     "shell.execute_reply.started": "2021-07-26T13:22:14.183427Z"
    },
    "papermill": {
     "duration": 0.113426,
     "end_time": "2021-07-22T15:30:18.010514",
     "exception": false,
     "start_time": "2021-07-22T15:30:17.897088",
     "status": "completed"
    },
    "tags": []
   },
   "outputs": [],
   "source": [
    "# Возможно следует исключить work_address ?"
   ]
  },
  {
   "cell_type": "markdown",
   "metadata": {
    "papermill": {
     "duration": 0.103408,
     "end_time": "2021-07-22T15:30:18.219084",
     "exception": false,
     "start_time": "2021-07-22T15:30:18.115676",
     "status": "completed"
    },
    "tags": []
   },
   "source": [
    "### Bki_request_cnt"
   ]
  },
  {
   "cell_type": "code",
   "execution_count": null,
   "metadata": {
    "execution": {
     "iopub.execute_input": "2021-07-26T13:22:14.193358Z",
     "iopub.status.busy": "2021-07-26T13:22:14.192876Z",
     "iopub.status.idle": "2021-07-26T13:22:14.405776Z",
     "shell.execute_reply": "2021-07-26T13:22:14.405045Z",
     "shell.execute_reply.started": "2021-07-26T13:22:14.193311Z"
    },
    "papermill": {
     "duration": 0.312693,
     "end_time": "2021-07-22T15:30:18.63674",
     "exception": false,
     "start_time": "2021-07-22T15:30:18.324047",
     "status": "completed"
    },
    "tags": []
   },
   "outputs": [],
   "source": [
    "display(outliers(train, 'bki_request_cnt'))\n",
    "plt.figure(figsize=(10, 8))\n",
    "_ = sns.boxplot(x='default', y='bki_request_cnt', data=train)"
   ]
  },
  {
   "cell_type": "code",
   "execution_count": null,
   "metadata": {
    "execution": {
     "iopub.execute_input": "2021-07-26T13:22:14.408393Z",
     "iopub.status.busy": "2021-07-26T13:22:14.407962Z",
     "iopub.status.idle": "2021-07-26T13:22:14.411859Z",
     "shell.execute_reply": "2021-07-26T13:22:14.410861Z",
     "shell.execute_reply.started": "2021-07-26T13:22:14.408360Z"
    },
    "papermill": {
     "duration": 0.115068,
     "end_time": "2021-07-22T15:30:18.859711",
     "exception": false,
     "start_time": "2021-07-22T15:30:18.744643",
     "status": "completed"
    },
    "tags": []
   },
   "outputs": [],
   "source": [
    "# Очень много нулевых значений приводит к тому что все остальные помечаются как выбросы"
   ]
  },
  {
   "cell_type": "code",
   "execution_count": null,
   "metadata": {
    "execution": {
     "iopub.execute_input": "2021-07-26T13:22:14.413331Z",
     "iopub.status.busy": "2021-07-26T13:22:14.412983Z",
     "iopub.status.idle": "2021-07-26T13:22:14.433077Z",
     "shell.execute_reply": "2021-07-26T13:22:14.431948Z",
     "shell.execute_reply.started": "2021-07-26T13:22:14.413300Z"
    },
    "papermill": {
     "duration": 0.126728,
     "end_time": "2021-07-22T15:30:19.1182",
     "exception": false,
     "start_time": "2021-07-22T15:30:18.991472",
     "status": "completed"
    },
    "tags": []
   },
   "outputs": [],
   "source": [
    "# Посмотрим есть ли влияние этих признаков на целевую переменную\n",
    "f, p = f_classif(train[['bki_request_cnt']], train['default'])\n",
    "print(f'F-statistic = {f[0]}, p_value = {p[0]}')"
   ]
  },
  {
   "cell_type": "code",
   "execution_count": null,
   "metadata": {
    "execution": {
     "iopub.execute_input": "2021-07-26T13:22:14.434758Z",
     "iopub.status.busy": "2021-07-26T13:22:14.434416Z",
     "iopub.status.idle": "2021-07-26T13:22:14.825150Z",
     "shell.execute_reply": "2021-07-26T13:22:14.824063Z",
     "shell.execute_reply.started": "2021-07-26T13:22:14.434727Z"
    },
    "papermill": {
     "duration": 0.489589,
     "end_time": "2021-07-22T15:30:19.717606",
     "exception": false,
     "start_time": "2021-07-22T15:30:19.228017",
     "status": "completed"
    },
    "tags": []
   },
   "outputs": [],
   "source": [
    "plt.figure(figsize=(10, 8))\n",
    "train['bki_request_cnt'].hist(bins=100)"
   ]
  },
  {
   "cell_type": "code",
   "execution_count": null,
   "metadata": {
    "execution": {
     "iopub.execute_input": "2021-07-26T13:22:14.826665Z",
     "iopub.status.busy": "2021-07-26T13:22:14.826386Z",
     "iopub.status.idle": "2021-07-26T13:22:17.274184Z",
     "shell.execute_reply": "2021-07-26T13:22:17.273181Z",
     "shell.execute_reply.started": "2021-07-26T13:22:14.826636Z"
    },
    "papermill": {
     "duration": 2.55025,
     "end_time": "2021-07-22T15:30:22.376806",
     "exception": false,
     "start_time": "2021-07-22T15:30:19.826556",
     "status": "completed"
    },
    "tags": []
   },
   "outputs": [],
   "source": [
    "# У признака большой правый хвост - попробуем исправить \n",
    "fig, ax = plt.subplots(nrows=2, ncols=2)\n",
    "fig.set_size_inches(16, 10)\n",
    "indices = train['bki_request_cnt'] > 0\n",
    "ax[0][0].set_title('Source')\n",
    "_ = sns.histplot(train.loc[indices, 'bki_request_cnt'], fill=True, kde=True, bins=30, ax=ax[0][0])\n",
    "ax[0][1].set_title('Log')\n",
    "_ = sns.histplot(np.log(train.loc[indices, 'bki_request_cnt']), fill=True, kde=True, bins=30, ax=ax[0][1])\n",
    "ax[1][0].set_title('Sqrt')\n",
    "_ = sns.histplot(np.sqrt(train.loc[indices, 'bki_request_cnt']), fill=True, kde=True, bins=30, ax=ax[1][0])\n",
    "ax[1][1].set_title('BoxCox')\n",
    "_ = sns.histplot(stats.boxcox(train.loc[indices, 'bki_request_cnt'])[0], fill=True, kde=True, bins=30, ax=ax[1][1])"
   ]
  },
  {
   "cell_type": "code",
   "execution_count": null,
   "metadata": {
    "execution": {
     "iopub.execute_input": "2021-07-26T13:22:17.276215Z",
     "iopub.status.busy": "2021-07-26T13:22:17.275785Z",
     "iopub.status.idle": "2021-07-26T13:22:17.280733Z",
     "shell.execute_reply": "2021-07-26T13:22:17.279685Z",
     "shell.execute_reply.started": "2021-07-26T13:22:17.276153Z"
    },
    "papermill": {
     "duration": 0.119688,
     "end_time": "2021-07-22T15:30:22.608213",
     "exception": false,
     "start_time": "2021-07-22T15:30:22.488525",
     "status": "completed"
    },
    "tags": []
   },
   "outputs": [],
   "source": [
    "# После преобразований лучше не стало"
   ]
  },
  {
   "cell_type": "markdown",
   "metadata": {
    "papermill": {
     "duration": 0.110897,
     "end_time": "2021-07-22T15:30:22.830324",
     "exception": false,
     "start_time": "2021-07-22T15:30:22.719427",
     "status": "completed"
    },
    "tags": []
   },
   "source": [
    "### Region_rating"
   ]
  },
  {
   "cell_type": "code",
   "execution_count": null,
   "metadata": {
    "execution": {
     "iopub.execute_input": "2021-07-26T13:22:17.282706Z",
     "iopub.status.busy": "2021-07-26T13:22:17.282300Z",
     "iopub.status.idle": "2021-07-26T13:22:17.508180Z",
     "shell.execute_reply": "2021-07-26T13:22:17.506988Z",
     "shell.execute_reply.started": "2021-07-26T13:22:17.282664Z"
    },
    "papermill": {
     "duration": 0.325682,
     "end_time": "2021-07-22T15:30:23.268509",
     "exception": false,
     "start_time": "2021-07-22T15:30:22.942827",
     "status": "completed"
    },
    "tags": []
   },
   "outputs": [],
   "source": [
    "display(outliers(train, 'region_rating'))\n",
    "#_ = sns.boxplot(x='default', y='region_rating', data=train)\n",
    "plt.figure(figsize=(10, 8))\n",
    "_ = sns.boxplot(y='region_rating', data=train)"
   ]
  },
  {
   "cell_type": "code",
   "execution_count": null,
   "metadata": {
    "execution": {
     "iopub.execute_input": "2021-07-26T13:22:17.509976Z",
     "iopub.status.busy": "2021-07-26T13:22:17.509587Z",
     "iopub.status.idle": "2021-07-26T13:22:17.514337Z",
     "shell.execute_reply": "2021-07-26T13:22:17.513077Z",
     "shell.execute_reply.started": "2021-07-26T13:22:17.509942Z"
    },
    "papermill": {
     "duration": 0.121031,
     "end_time": "2021-07-22T15:30:23.50524",
     "exception": false,
     "start_time": "2021-07-22T15:30:23.384209",
     "status": "completed"
    },
    "tags": []
   },
   "outputs": [],
   "source": [
    "#  Есть выбросы, но скорее всего крайние значения как раз сильно влияют на дефолт, оставляем как есть"
   ]
  },
  {
   "cell_type": "code",
   "execution_count": null,
   "metadata": {
    "execution": {
     "iopub.execute_input": "2021-07-26T13:22:17.516500Z",
     "iopub.status.busy": "2021-07-26T13:22:17.516061Z",
     "iopub.status.idle": "2021-07-26T13:22:17.533378Z",
     "shell.execute_reply": "2021-07-26T13:22:17.532258Z",
     "shell.execute_reply.started": "2021-07-26T13:22:17.516455Z"
    },
    "papermill": {
     "duration": 0.125752,
     "end_time": "2021-07-22T15:30:23.742796",
     "exception": false,
     "start_time": "2021-07-22T15:30:23.617044",
     "status": "completed"
    },
    "tags": []
   },
   "outputs": [],
   "source": [
    "# Посмотрим есть ли влияние этих признаков на целевую переменную\n",
    "f, p = f_classif(train[['region_rating']], train['default'])\n",
    "print(f'F-statistic = {f[0]}, p_value = {p[0]}')"
   ]
  },
  {
   "cell_type": "markdown",
   "metadata": {
    "papermill": {
     "duration": 0.113627,
     "end_time": "2021-07-22T15:30:23.969847",
     "exception": false,
     "start_time": "2021-07-22T15:30:23.85622",
     "status": "completed"
    },
    "tags": []
   },
   "source": [
    "### Income"
   ]
  },
  {
   "cell_type": "code",
   "execution_count": null,
   "metadata": {
    "execution": {
     "iopub.execute_input": "2021-07-26T13:22:17.534607Z",
     "iopub.status.busy": "2021-07-26T13:22:17.534351Z",
     "iopub.status.idle": "2021-07-26T13:22:17.790729Z",
     "shell.execute_reply": "2021-07-26T13:22:17.789781Z",
     "shell.execute_reply.started": "2021-07-26T13:22:17.534581Z"
    },
    "papermill": {
     "duration": 0.337436,
     "end_time": "2021-07-22T15:30:24.422906",
     "exception": false,
     "start_time": "2021-07-22T15:30:24.08547",
     "status": "completed"
    },
    "tags": []
   },
   "outputs": [],
   "source": [
    "display(outliers(train, 'income'))\n",
    "plt.figure(figsize=(10, 8))\n",
    "_ = sns.boxplot(x='default', y='income', data=train)"
   ]
  },
  {
   "cell_type": "code",
   "execution_count": null,
   "metadata": {
    "execution": {
     "iopub.execute_input": "2021-07-26T13:22:17.792449Z",
     "iopub.status.busy": "2021-07-26T13:22:17.792054Z",
     "iopub.status.idle": "2021-07-26T13:22:17.796770Z",
     "shell.execute_reply": "2021-07-26T13:22:17.795658Z",
     "shell.execute_reply.started": "2021-07-26T13:22:17.792409Z"
    },
    "papermill": {
     "duration": 0.1219,
     "end_time": "2021-07-22T15:30:24.660454",
     "exception": false,
     "start_time": "2021-07-22T15:30:24.538554",
     "status": "completed"
    },
    "tags": []
   },
   "outputs": [],
   "source": [
    "# Выбросов много, но определить где начинается и заканчивается реальный доход очень тяжело. \n",
    "# Скорее всего доход 1000 (вопрос чего) - это действитель неправдоподобно мало, \n",
    "# а доход ровно 999999 выглядит странно, но возможно это тоже индикатор для принятия решений\n",
    "# Если можно было-бы узнать как получены эти данные"
   ]
  },
  {
   "cell_type": "code",
   "execution_count": null,
   "metadata": {
    "execution": {
     "iopub.execute_input": "2021-07-26T13:22:17.798865Z",
     "iopub.status.busy": "2021-07-26T13:22:17.798463Z",
     "iopub.status.idle": "2021-07-26T13:22:17.821491Z",
     "shell.execute_reply": "2021-07-26T13:22:17.819844Z",
     "shell.execute_reply.started": "2021-07-26T13:22:17.798821Z"
    },
    "papermill": {
     "duration": 0.128765,
     "end_time": "2021-07-22T15:30:24.902918",
     "exception": false,
     "start_time": "2021-07-22T15:30:24.774153",
     "status": "completed"
    },
    "tags": []
   },
   "outputs": [],
   "source": [
    "# Посмотрим есть ли влияние этих признаков на целевую переменную\n",
    "f, p = f_classif(train[['income']], train['default'])\n",
    "print(f'F-statistic = {f[0]}, p_value = {p[0]}')"
   ]
  },
  {
   "cell_type": "code",
   "execution_count": null,
   "metadata": {
    "execution": {
     "iopub.execute_input": "2021-07-26T13:22:17.823553Z",
     "iopub.status.busy": "2021-07-26T13:22:17.823120Z",
     "iopub.status.idle": "2021-07-26T13:22:18.209356Z",
     "shell.execute_reply": "2021-07-26T13:22:18.208529Z",
     "shell.execute_reply.started": "2021-07-26T13:22:17.823506Z"
    },
    "papermill": {
     "duration": 1.08152,
     "end_time": "2021-07-22T15:30:26.099133",
     "exception": false,
     "start_time": "2021-07-22T15:30:25.017613",
     "status": "completed"
    },
    "tags": []
   },
   "outputs": [],
   "source": [
    "plt.figure(figsize=(10, 8))\n",
    "train['income'].hist(bins=100)"
   ]
  },
  {
   "cell_type": "code",
   "execution_count": null,
   "metadata": {
    "execution": {
     "iopub.execute_input": "2021-07-26T13:22:18.210962Z",
     "iopub.status.busy": "2021-07-26T13:22:18.210690Z",
     "iopub.status.idle": "2021-07-26T13:22:21.250475Z",
     "shell.execute_reply": "2021-07-26T13:22:21.249396Z",
     "shell.execute_reply.started": "2021-07-26T13:22:18.210930Z"
    },
    "papermill": {
     "duration": 3.154231,
     "end_time": "2021-07-22T15:30:29.36798",
     "exception": false,
     "start_time": "2021-07-22T15:30:26.213749",
     "status": "completed"
    },
    "tags": []
   },
   "outputs": [],
   "source": [
    "# У признака большой правый хвост - попробуем исправить \n",
    "fig, ax = plt.subplots(nrows=2, ncols=2)\n",
    "fig.set_size_inches(16, 10)\n",
    "indices = train['income'] > 0\n",
    "ax[0][0].set_title('Source')\n",
    "_ = sns.histplot(train.loc[indices, 'income'], fill=True, kde=True, bins=30, ax=ax[0][0])\n",
    "ax[0][1].set_title('Log')\n",
    "_ = sns.histplot(np.log(train.loc[indices, 'income']), fill=True, kde=True, bins=30, ax=ax[0][1])\n",
    "ax[1][0].set_title('Sqrt')\n",
    "_ = sns.histplot(np.sqrt(train.loc[indices, 'income']), fill=True, kde=True, bins=30, ax=ax[1][0])\n",
    "ax[1][1].set_title('BoxCox')\n",
    "_ = sns.histplot(stats.boxcox(train.loc[indices, 'income'])[0], fill=True, kde=True, bins=30, ax=ax[1][1])"
   ]
  },
  {
   "cell_type": "code",
   "execution_count": null,
   "metadata": {
    "execution": {
     "iopub.execute_input": "2021-07-26T13:22:21.252162Z",
     "iopub.status.busy": "2021-07-26T13:22:21.251850Z",
     "iopub.status.idle": "2021-07-26T13:22:21.255824Z",
     "shell.execute_reply": "2021-07-26T13:22:21.254881Z",
     "shell.execute_reply.started": "2021-07-26T13:22:21.252131Z"
    },
    "papermill": {
     "duration": 0.124726,
     "end_time": "2021-07-22T15:30:29.610052",
     "exception": false,
     "start_time": "2021-07-22T15:30:29.485326",
     "status": "completed"
    },
    "tags": []
   },
   "outputs": [],
   "source": [
    "# После логарифма и бокса-кокса стало гораздо лучше"
   ]
  },
  {
   "cell_type": "markdown",
   "metadata": {
    "papermill": {
     "duration": 0.118206,
     "end_time": "2021-07-22T15:30:29.845327",
     "exception": false,
     "start_time": "2021-07-22T15:30:29.727121",
     "status": "completed"
    },
    "tags": []
   },
   "source": [
    "### SNA"
   ]
  },
  {
   "cell_type": "code",
   "execution_count": null,
   "metadata": {
    "execution": {
     "iopub.execute_input": "2021-07-26T13:22:21.257331Z",
     "iopub.status.busy": "2021-07-26T13:22:21.257024Z",
     "iopub.status.idle": "2021-07-26T13:22:21.410340Z",
     "shell.execute_reply": "2021-07-26T13:22:21.409389Z",
     "shell.execute_reply.started": "2021-07-26T13:22:21.257301Z"
    },
    "papermill": {
     "duration": 0.270122,
     "end_time": "2021-07-22T15:30:30.247088",
     "exception": false,
     "start_time": "2021-07-22T15:30:29.976966",
     "status": "completed"
    },
    "scrolled": true,
    "tags": []
   },
   "outputs": [],
   "source": [
    "# Вообще непонятный параметр. Что означает \"связь заемщика с клиентами банка\"? \n",
    "# Сколько человек? Балльная оценка? Если баллы что лучше 1 или 4?\n",
    "# Будем рассматривать как баллы\n",
    "plt.figure(figsize=(16, 5))\n",
    "_ = sns.countplot(x='sna', data=train)"
   ]
  },
  {
   "cell_type": "code",
   "execution_count": null,
   "metadata": {
    "execution": {
     "iopub.execute_input": "2021-07-26T13:22:21.411885Z",
     "iopub.status.busy": "2021-07-26T13:22:21.411579Z",
     "iopub.status.idle": "2021-07-26T13:22:21.698630Z",
     "shell.execute_reply": "2021-07-26T13:22:21.697729Z",
     "shell.execute_reply.started": "2021-07-26T13:22:21.411855Z"
    },
    "papermill": {
     "duration": 0.38965,
     "end_time": "2021-07-22T15:30:30.754656",
     "exception": false,
     "start_time": "2021-07-22T15:30:30.365006",
     "status": "completed"
    },
    "tags": []
   },
   "outputs": [],
   "source": [
    "# Интересна обратная корреляция между sna и first_time\n",
    "fig, ax = plt.subplots(figsize=(6, 6))\n",
    "sns.heatmap(train[['sna', 'first_time', 'default']].corr().abs(), vmin=0, vmax=1, annot=True, square=True)"
   ]
  },
  {
   "cell_type": "markdown",
   "metadata": {
    "papermill": {
     "duration": 0.116086,
     "end_time": "2021-07-22T15:30:30.987438",
     "exception": false,
     "start_time": "2021-07-22T15:30:30.871352",
     "status": "completed"
    },
    "tags": []
   },
   "source": [
    "### First_time"
   ]
  },
  {
   "cell_type": "code",
   "execution_count": null,
   "metadata": {
    "execution": {
     "iopub.execute_input": "2021-07-26T13:22:21.700021Z",
     "iopub.status.busy": "2021-07-26T13:22:21.699750Z",
     "iopub.status.idle": "2021-07-26T13:22:21.862593Z",
     "shell.execute_reply": "2021-07-26T13:22:21.861546Z",
     "shell.execute_reply.started": "2021-07-26T13:22:21.699995Z"
    },
    "papermill": {
     "duration": 0.272812,
     "end_time": "2021-07-22T15:30:31.377423",
     "exception": false,
     "start_time": "2021-07-22T15:30:31.104611",
     "status": "completed"
    },
    "tags": []
   },
   "outputs": [],
   "source": [
    "# Тоже непонятный признак \"давность наличия информации о заемщике\".\n",
    "# Но здесь скорее всего категория 1 - небольшая давность, 4 - большая\n",
    "# Тогда можно объяснить корреляцию (чем меньше давность, тем больше связь с клиентами)\n",
    "plt.figure(figsize=(16, 5))\n",
    "_ = sns.countplot(x='first_time', data=train)"
   ]
  },
  {
   "cell_type": "markdown",
   "metadata": {
    "papermill": {
     "duration": 0.120375,
     "end_time": "2021-07-22T15:30:31.616435",
     "exception": false,
     "start_time": "2021-07-22T15:30:31.49606",
     "status": "completed"
    },
    "tags": []
   },
   "source": [
    "### И на \"сладкое\" default"
   ]
  },
  {
   "cell_type": "code",
   "execution_count": null,
   "metadata": {
    "execution": {
     "iopub.execute_input": "2021-07-26T13:22:21.864359Z",
     "iopub.status.busy": "2021-07-26T13:22:21.864034Z",
     "iopub.status.idle": "2021-07-26T13:22:22.009125Z",
     "shell.execute_reply": "2021-07-26T13:22:22.008440Z",
     "shell.execute_reply.started": "2021-07-26T13:22:21.864330Z"
    },
    "papermill": {
     "duration": 0.268104,
     "end_time": "2021-07-22T15:30:32.003195",
     "exception": false,
     "start_time": "2021-07-22T15:30:31.735091",
     "status": "completed"
    },
    "tags": []
   },
   "outputs": [],
   "source": [
    "# Из профайлера видно, что есть большой перекос в данных. Не 10 к одному, но 87 к 13 тоже много.\n",
    "# Надо будет учитывать при построении модели\n",
    "plt.figure(figsize=(16, 5))\n",
    "_ = sns.countplot(x='default', data=train)"
   ]
  },
  {
   "cell_type": "code",
   "execution_count": null,
   "metadata": {
    "execution": {
     "iopub.execute_input": "2021-07-26T13:22:22.010664Z",
     "iopub.status.busy": "2021-07-26T13:22:22.010225Z",
     "iopub.status.idle": "2021-07-26T13:22:22.027087Z",
     "shell.execute_reply": "2021-07-26T13:22:22.026433Z",
     "shell.execute_reply.started": "2021-07-26T13:22:22.010620Z"
    },
    "papermill": {
     "duration": 0.141649,
     "end_time": "2021-07-22T15:30:32.267134",
     "exception": false,
     "start_time": "2021-07-22T15:30:32.125485",
     "status": "completed"
    },
    "tags": []
   },
   "outputs": [],
   "source": [
    "len(train[train['default'] == 1]) / len(train[train['default'] == 0])"
   ]
  },
  {
   "cell_type": "markdown",
   "metadata": {
    "papermill": {
     "duration": 0.119873,
     "end_time": "2021-07-22T15:30:32.506914",
     "exception": false,
     "start_time": "2021-07-22T15:30:32.387041",
     "status": "completed"
    },
    "tags": []
   },
   "source": [
    "## Предобработка"
   ]
  },
  {
   "cell_type": "code",
   "execution_count": null,
   "metadata": {
    "execution": {
     "iopub.execute_input": "2021-07-26T13:22:22.028660Z",
     "iopub.status.busy": "2021-07-26T13:22:22.028187Z",
     "iopub.status.idle": "2021-07-26T13:22:22.061450Z",
     "shell.execute_reply": "2021-07-26T13:22:22.060650Z",
     "shell.execute_reply.started": "2021-07-26T13:22:22.028621Z"
    },
    "papermill": {
     "duration": 0.158261,
     "end_time": "2021-07-22T15:30:32.787392",
     "exception": false,
     "start_time": "2021-07-22T15:30:32.629131",
     "status": "completed"
    },
    "tags": []
   },
   "outputs": [],
   "source": [
    "# Заполнить пропуски в education = 'UNK'\n",
    "train['education'].fillna('UNK', inplace=True)\n",
    "train['education'].value_counts()"
   ]
  },
  {
   "cell_type": "code",
   "execution_count": null,
   "metadata": {
    "execution": {
     "iopub.execute_input": "2021-07-26T13:22:22.063397Z",
     "iopub.status.busy": "2021-07-26T13:22:22.062838Z",
     "iopub.status.idle": "2021-07-26T13:22:22.090079Z",
     "shell.execute_reply": "2021-07-26T13:22:22.089001Z",
     "shell.execute_reply.started": "2021-07-26T13:22:22.063356Z"
    },
    "papermill": {
     "duration": 0.146861,
     "end_time": "2021-07-22T15:30:33.055782",
     "exception": false,
     "start_time": "2021-07-22T15:30:32.908921",
     "status": "completed"
    },
    "tags": []
   },
   "outputs": [],
   "source": [
    "train.sample(5)"
   ]
  },
  {
   "cell_type": "code",
   "execution_count": null,
   "metadata": {
    "execution": {
     "iopub.execute_input": "2021-07-26T13:22:22.091779Z",
     "iopub.status.busy": "2021-07-26T13:22:22.091484Z",
     "iopub.status.idle": "2021-07-26T13:22:22.097519Z",
     "shell.execute_reply": "2021-07-26T13:22:22.096597Z",
     "shell.execute_reply.started": "2021-07-26T13:22:22.091751Z"
    },
    "papermill": {
     "duration": 0.126497,
     "end_time": "2021-07-22T15:30:33.301452",
     "exception": false,
     "start_time": "2021-07-22T15:30:33.174955",
     "status": "completed"
    },
    "tags": []
   },
   "outputs": [],
   "source": [
    "def boxcox(df):\n",
    "    boxcox_df = df.copy()\n",
    "    for f in df.columns:\n",
    "        zero_indices = df[f] == 0\n",
    "        bc, lam = stats.boxcox(df.loc[df[f] > 0, f])\n",
    "        boxcox_df.loc[~zero_indices, f] = bc\n",
    "        boxcox_df.loc[zero_indices, f] = -1 / lam\n",
    "    return boxcox_df    \n"
   ]
  },
  {
   "cell_type": "code",
   "execution_count": null,
   "metadata": {
    "execution": {
     "iopub.execute_input": "2021-07-26T13:22:22.098908Z",
     "iopub.status.busy": "2021-07-26T13:22:22.098637Z",
     "iopub.status.idle": "2021-07-26T13:22:23.012707Z",
     "shell.execute_reply": "2021-07-26T13:22:23.011768Z",
     "shell.execute_reply.started": "2021-07-26T13:22:22.098883Z"
    },
    "papermill": {
     "duration": 0.99491,
     "end_time": "2021-07-22T15:30:34.416414",
     "exception": false,
     "start_time": "2021-07-22T15:30:33.421504",
     "status": "completed"
    },
    "tags": []
   },
   "outputs": [],
   "source": [
    "# У income большой правый хвость применим преобразование Бокса-Кокса к признаку\n",
    "train['income'] = boxcox(train[['income']])\n",
    "fig, ax = plt.subplots()\n",
    "fig.set_size_inches(16, 10)\n",
    "ax.set_title('Source')\n",
    "_ = sns.histplot(train['income'], fill=True, kde=True, bins=30, ax=ax)"
   ]
  },
  {
   "cell_type": "code",
   "execution_count": null,
   "metadata": {
    "execution": {
     "iopub.execute_input": "2021-07-26T13:22:23.014253Z",
     "iopub.status.busy": "2021-07-26T13:22:23.013947Z",
     "iopub.status.idle": "2021-07-26T13:22:23.746464Z",
     "shell.execute_reply": "2021-07-26T13:22:23.745520Z",
     "shell.execute_reply.started": "2021-07-26T13:22:23.014223Z"
    },
    "papermill": {
     "duration": 0.837002,
     "end_time": "2021-07-22T15:30:35.374319",
     "exception": false,
     "start_time": "2021-07-22T15:30:34.537317",
     "status": "completed"
    },
    "tags": []
   },
   "outputs": [],
   "source": [
    "# У age большой правый хвость применим преобразование логарифмирование к признаку\n",
    "train['age'] = np.log(train['age'])\n",
    "fig, ax = plt.subplots()\n",
    "fig.set_size_inches(16, 10)\n",
    "ax.set_title('Source')\n",
    "_ = sns.histplot(train['age'], fill=True, kde=True, bins=30, ax=ax)"
   ]
  },
  {
   "cell_type": "markdown",
   "metadata": {
    "papermill": {
     "duration": 0.127646,
     "end_time": "2021-07-22T15:30:35.627579",
     "exception": false,
     "start_time": "2021-07-22T15:30:35.499933",
     "status": "completed"
    },
    "tags": []
   },
   "source": [
    "### Feature engineering"
   ]
  },
  {
   "cell_type": "code",
   "execution_count": null,
   "metadata": {
    "execution": {
     "iopub.execute_input": "2021-07-26T13:22:23.748120Z",
     "iopub.status.busy": "2021-07-26T13:22:23.747817Z",
     "iopub.status.idle": "2021-07-26T13:22:23.755957Z",
     "shell.execute_reply": "2021-07-26T13:22:23.754997Z",
     "shell.execute_reply.started": "2021-07-26T13:22:23.748089Z"
    },
    "papermill": {
     "duration": 0.132171,
     "end_time": "2021-07-22T15:30:35.884832",
     "exception": false,
     "start_time": "2021-07-22T15:30:35.752661",
     "status": "completed"
    },
    "tags": []
   },
   "outputs": [],
   "source": [
    "num_features = ['age', 'score_bki', 'decline_app_cnt', 'bki_request_cnt', 'income']\n",
    "bin_features = ['sex', 'car', 'car_type', 'foreign_passport', 'good_work']\n",
    "cat_features = ['education', 'work_address', 'home_address']\n",
    "ord_features = ['sna', 'first_time', 'region_rating']\n",
    "del_features = ['client_id', 'app_date']\n",
    "target = 'default'\n",
    "len(num_features + bin_features + cat_features + ord_features + del_features + [target])"
   ]
  },
  {
   "cell_type": "code",
   "execution_count": null,
   "metadata": {
    "execution": {
     "iopub.execute_input": "2021-07-26T13:22:23.757591Z",
     "iopub.status.busy": "2021-07-26T13:22:23.757292Z",
     "iopub.status.idle": "2021-07-26T13:22:23.957318Z",
     "shell.execute_reply": "2021-07-26T13:22:23.956302Z",
     "shell.execute_reply.started": "2021-07-26T13:22:23.757560Z"
    },
    "papermill": {
     "duration": 0.312518,
     "end_time": "2021-07-22T15:30:36.320519",
     "exception": false,
     "start_time": "2021-07-22T15:30:36.008001",
     "status": "completed"
    },
    "tags": []
   },
   "outputs": [],
   "source": [
    "train['app_weekday'] = train['app_date'].dt.weekday\n",
    "cat_features.append('app_weekday')\n",
    "plt.figure(figsize=(16, 5))\n",
    "_ = sns.countplot(x='app_weekday', data=train)"
   ]
  },
  {
   "cell_type": "code",
   "execution_count": null,
   "metadata": {
    "execution": {
     "iopub.execute_input": "2021-07-26T13:22:23.959432Z",
     "iopub.status.busy": "2021-07-26T13:22:23.958838Z",
     "iopub.status.idle": "2021-07-26T13:22:24.201430Z",
     "shell.execute_reply": "2021-07-26T13:22:24.200555Z",
     "shell.execute_reply.started": "2021-07-26T13:22:23.959386Z"
    },
    "papermill": {
     "duration": 0.346498,
     "end_time": "2021-07-22T15:30:36.794095",
     "exception": false,
     "start_time": "2021-07-22T15:30:36.447597",
     "status": "completed"
    },
    "scrolled": true,
    "tags": []
   },
   "outputs": [],
   "source": [
    "train['car_type2'] = train['car_type'] + train['car']\n",
    "cat_features.append('car_type2')\n",
    "plt.figure(figsize=(16, 5))\n",
    "_ = sns.countplot(x='car_type2', data=train)"
   ]
  },
  {
   "cell_type": "code",
   "execution_count": null,
   "metadata": {
    "execution": {
     "iopub.execute_input": "2021-07-26T13:22:24.203092Z",
     "iopub.status.busy": "2021-07-26T13:22:24.202612Z",
     "iopub.status.idle": "2021-07-26T13:22:24.340334Z",
     "shell.execute_reply": "2021-07-26T13:22:24.339465Z",
     "shell.execute_reply.started": "2021-07-26T13:22:24.203050Z"
    },
    "papermill": {
     "duration": 0.257644,
     "end_time": "2021-07-22T15:30:37.173947",
     "exception": false,
     "start_time": "2021-07-22T15:30:36.916303",
     "status": "completed"
    },
    "tags": []
   },
   "outputs": [],
   "source": [
    "train['has_bki_request'] = train['bki_request_cnt'] > 0\n",
    "bin_features.append('has_bki_request')\n",
    "plt.figure(figsize=(16, 5))\n",
    "_ = sns.countplot(x='has_bki_request', data=train)"
   ]
  },
  {
   "cell_type": "code",
   "execution_count": null,
   "metadata": {
    "execution": {
     "iopub.execute_input": "2021-07-26T13:22:24.341818Z",
     "iopub.status.busy": "2021-07-26T13:22:24.341549Z",
     "iopub.status.idle": "2021-07-26T13:22:25.079093Z",
     "shell.execute_reply": "2021-07-26T13:22:25.078097Z",
     "shell.execute_reply.started": "2021-07-26T13:22:24.341790Z"
    },
    "papermill": {
     "duration": 0.845366,
     "end_time": "2021-07-22T15:30:38.144462",
     "exception": false,
     "start_time": "2021-07-22T15:30:37.299096",
     "status": "completed"
    },
    "tags": []
   },
   "outputs": [],
   "source": [
    "train['app_days'] = (train['app_date'] - datetime(2014, 1, 1)).dt.days\n",
    "num_features.append('app_days')\n",
    "fig, ax = plt.subplots()\n",
    "fig.set_size_inches(16, 10)\n",
    "ax.set_title('Source')\n",
    "_ = sns.histplot(train['app_days'], fill=True, kde=True, bins=30, ax=ax)"
   ]
  },
  {
   "cell_type": "code",
   "execution_count": null,
   "metadata": {
    "execution": {
     "iopub.execute_input": "2021-07-26T13:22:25.080634Z",
     "iopub.status.busy": "2021-07-26T13:22:25.080330Z",
     "iopub.status.idle": "2021-07-26T13:22:25.224631Z",
     "shell.execute_reply": "2021-07-26T13:22:25.223604Z",
     "shell.execute_reply.started": "2021-07-26T13:22:25.080605Z"
    },
    "papermill": {
     "duration": 0.259714,
     "end_time": "2021-07-22T15:30:38.530419",
     "exception": false,
     "start_time": "2021-07-22T15:30:38.270705",
     "status": "completed"
    },
    "tags": []
   },
   "outputs": [],
   "source": [
    "train['has_decline'] = train['decline_app_cnt'] > 0\n",
    "bin_features.append('has_decline')\n",
    "plt.figure(figsize=(16, 5))\n",
    "_ = sns.countplot(x='has_decline', data=train)"
   ]
  },
  {
   "cell_type": "code",
   "execution_count": null,
   "metadata": {
    "execution": {
     "iopub.execute_input": "2021-07-26T13:22:25.226613Z",
     "iopub.status.busy": "2021-07-26T13:22:25.226156Z",
     "iopub.status.idle": "2021-07-26T13:22:25.435901Z",
     "shell.execute_reply": "2021-07-26T13:22:25.434977Z",
     "shell.execute_reply.started": "2021-07-26T13:22:25.226566Z"
    },
    "papermill": {
     "duration": 0.331063,
     "end_time": "2021-07-22T15:30:38.989865",
     "exception": false,
     "start_time": "2021-07-22T15:30:38.658802",
     "status": "completed"
    },
    "tags": []
   },
   "outputs": [],
   "source": [
    "train['region_cat'] = train['region_rating'].apply(lambda x: 2 if x == 50 else 1 if x < 50 else 3)\n",
    "cat_features.append('region_cat')\n",
    "plt.figure(figsize=(16, 5))\n",
    "_ = sns.countplot(x='region_cat', data=train)\n"
   ]
  },
  {
   "cell_type": "code",
   "execution_count": null,
   "metadata": {
    "execution": {
     "iopub.execute_input": "2021-07-26T13:22:25.437473Z",
     "iopub.status.busy": "2021-07-26T13:22:25.437153Z",
     "iopub.status.idle": "2021-07-26T13:22:25.614686Z",
     "shell.execute_reply": "2021-07-26T13:22:25.613623Z",
     "shell.execute_reply.started": "2021-07-26T13:22:25.437442Z"
    },
    "papermill": {
     "duration": 0.287701,
     "end_time": "2021-07-22T15:30:39.411019",
     "exception": false,
     "start_time": "2021-07-22T15:30:39.123318",
     "status": "completed"
    },
    "tags": []
   },
   "outputs": [],
   "source": [
    "edu_map = {'UNK': 1, 'SCH': 1, 'GRD': 2, 'UGR': 3, 'PGR': 3, 'ACD': 3}\n",
    "train['education_cat'] = train['education'].map(edu_map)\n",
    "cat_features.append('education_cat')\n",
    "plt.figure(figsize=(16, 5))\n",
    "_ = sns.countplot(x='education_cat', data=train)\n"
   ]
  },
  {
   "cell_type": "code",
   "execution_count": null,
   "metadata": {
    "execution": {
     "iopub.execute_input": "2021-07-26T13:22:25.621297Z",
     "iopub.status.busy": "2021-07-26T13:22:25.620955Z",
     "iopub.status.idle": "2021-07-26T13:22:26.401219Z",
     "shell.execute_reply": "2021-07-26T13:22:26.400032Z",
     "shell.execute_reply.started": "2021-07-26T13:22:25.621263Z"
    }
   },
   "outputs": [],
   "source": [
    "mean_income = train.groupby('age')['income'].mean().to_dict()\n",
    "mean_income_age = train['age'].map(mean_income)\n",
    "max_income = train.groupby('age')['income'].max().to_dict()\n",
    "max_income_age = train['age'].map(max_income)        \n",
    "train['normalized_income'] = np.log(abs((train.income - mean_income_age) / max_income_age))\n",
    "fig, ax = plt.subplots()\n",
    "fig.set_size_inches(16, 10)\n",
    "ax.set_title('Source')\n",
    "_ = sns.histplot(train['normalized_income'], fill=True, kde=True, bins=30, ax=ax)"
   ]
  },
  {
   "cell_type": "markdown",
   "metadata": {
    "papermill": {
     "duration": 0.130909,
     "end_time": "2021-07-22T15:30:39.670442",
     "exception": false,
     "start_time": "2021-07-22T15:30:39.539533",
     "status": "completed"
    },
    "tags": []
   },
   "source": [
    "### Feature selection"
   ]
  },
  {
   "cell_type": "code",
   "execution_count": null,
   "metadata": {
    "execution": {
     "iopub.execute_input": "2021-07-26T13:22:26.403907Z",
     "iopub.status.busy": "2021-07-26T13:22:26.403550Z",
     "iopub.status.idle": "2021-07-26T13:22:26.410623Z",
     "shell.execute_reply": "2021-07-26T13:22:26.409503Z",
     "shell.execute_reply.started": "2021-07-26T13:22:26.403870Z"
    },
    "papermill": {
     "duration": 0.137354,
     "end_time": "2021-07-22T15:30:39.937571",
     "exception": false,
     "start_time": "2021-07-22T15:30:39.800217",
     "status": "completed"
    },
    "tags": []
   },
   "outputs": [],
   "source": [
    "train.set_index('client_id', inplace=True)"
   ]
  },
  {
   "cell_type": "code",
   "execution_count": null,
   "metadata": {
    "execution": {
     "iopub.execute_input": "2021-07-26T13:22:26.412418Z",
     "iopub.status.busy": "2021-07-26T13:22:26.412069Z",
     "iopub.status.idle": "2021-07-26T13:22:26.463595Z",
     "shell.execute_reply": "2021-07-26T13:22:26.462552Z",
     "shell.execute_reply.started": "2021-07-26T13:22:26.412377Z"
    },
    "papermill": {
     "duration": 0.164987,
     "end_time": "2021-07-22T15:30:40.229717",
     "exception": false,
     "start_time": "2021-07-22T15:30:40.06473",
     "status": "completed"
    },
    "tags": []
   },
   "outputs": [],
   "source": [
    "train.sample(2)"
   ]
  },
  {
   "cell_type": "code",
   "execution_count": null,
   "metadata": {
    "execution": {
     "iopub.execute_input": "2021-07-26T13:22:26.465341Z",
     "iopub.status.busy": "2021-07-26T13:22:26.464999Z",
     "iopub.status.idle": "2021-07-26T13:22:26.472983Z",
     "shell.execute_reply": "2021-07-26T13:22:26.472236Z",
     "shell.execute_reply.started": "2021-07-26T13:22:26.465307Z"
    },
    "papermill": {
     "duration": 0.136892,
     "end_time": "2021-07-22T15:30:40.488955",
     "exception": false,
     "start_time": "2021-07-22T15:30:40.352063",
     "status": "completed"
    },
    "tags": []
   },
   "outputs": [],
   "source": [
    "def showImportance(features_imp, features, n=20):\n",
    "    imp_df = pd.DataFrame(features_imp.T, columns=['importance'], index=features)\n",
    "    imp_df = np.abs(imp_df)\n",
    "    imp_df = imp_df.sort_values(by='importance', ascending=False)\n",
    "    f, ax = plt.subplots(1, 1, figsize=(16, 10), sharex=True)\n",
    "    df4display = imp_df.head(n)\n",
    "    sns.barplot(x=df4display['importance'], y=df4display.index, palette=\"vlag\", ax=ax)\n",
    "    _ = ax.set_ylabel(\"Признак\")\n",
    "    _ = ax.set_title(\"Значимость признаков\")\n"
   ]
  },
  {
   "cell_type": "code",
   "execution_count": null,
   "metadata": {
    "execution": {
     "iopub.execute_input": "2021-07-26T13:22:26.474392Z",
     "iopub.status.busy": "2021-07-26T13:22:26.473957Z",
     "iopub.status.idle": "2021-07-26T13:22:26.696120Z",
     "shell.execute_reply": "2021-07-26T13:22:26.695294Z",
     "shell.execute_reply.started": "2021-07-26T13:22:26.474361Z"
    },
    "papermill": {
     "duration": 0.340692,
     "end_time": "2021-07-22T15:30:40.958011",
     "exception": false,
     "start_time": "2021-07-22T15:30:40.617319",
     "status": "completed"
    },
    "tags": []
   },
   "outputs": [],
   "source": [
    "f_cls = f_classif(train[num_features], train['default'])\n",
    "showImportance(f_cls[0], num_features)"
   ]
  },
  {
   "cell_type": "code",
   "execution_count": null,
   "metadata": {
    "execution": {
     "iopub.execute_input": "2021-07-26T13:22:26.698070Z",
     "iopub.status.busy": "2021-07-26T13:22:26.697442Z",
     "iopub.status.idle": "2021-07-26T13:22:27.430159Z",
     "shell.execute_reply": "2021-07-26T13:22:27.429371Z",
     "shell.execute_reply.started": "2021-07-26T13:22:26.698023Z"
    },
    "papermill": {
     "duration": 0.802066,
     "end_time": "2021-07-22T15:30:41.901808",
     "exception": false,
     "start_time": "2021-07-22T15:30:41.099742",
     "status": "completed"
    },
    "tags": []
   },
   "outputs": [],
   "source": [
    "temp_df = train[bin_features + cat_features + ord_features + ['default']].copy()\n",
    "label_encoder = LabelEncoder()\n",
    "for feature in bin_features + cat_features:\n",
    "    temp_df[feature] = label_encoder.fit_transform(train[feature])\n",
    "mis = mutual_info_classif(temp_df[bin_features + cat_features + ord_features], \n",
    "                          temp_df['default'], discrete_features=True)\n",
    "showImportance(mis, bin_features + cat_features + ord_features)"
   ]
  },
  {
   "cell_type": "markdown",
   "metadata": {
    "papermill": {
     "duration": 0.134939,
     "end_time": "2021-07-22T15:30:42.175118",
     "exception": false,
     "start_time": "2021-07-22T15:30:42.040179",
     "status": "completed"
    },
    "tags": []
   },
   "source": [
    "### Check correlation"
   ]
  },
  {
   "cell_type": "code",
   "execution_count": null,
   "metadata": {
    "execution": {
     "iopub.execute_input": "2021-07-26T13:22:27.431764Z",
     "iopub.status.busy": "2021-07-26T13:22:27.431175Z",
     "iopub.status.idle": "2021-07-26T13:22:27.437728Z",
     "shell.execute_reply": "2021-07-26T13:22:27.436938Z",
     "shell.execute_reply.started": "2021-07-26T13:22:27.431727Z"
    },
    "papermill": {
     "duration": 0.137047,
     "end_time": "2021-07-22T15:30:42.441271",
     "exception": false,
     "start_time": "2021-07-22T15:30:42.304224",
     "status": "completed"
    },
    "tags": []
   },
   "outputs": [],
   "source": [
    "# Корреляция между числовыми признаками набора данных\n",
    "def showNumCorr(df, features, title='Корреляция между данными'):\n",
    "    # Корреляция между данными о ролике\n",
    "    plt.figure(figsize=(16, 10))\n",
    "    mask = np.triu(np.ones_like(df[features].corr(), dtype=bool))\n",
    "    heatmap = sns.heatmap(df[features].corr(),\n",
    "                          mask=mask, vmin=-1, vmax=1, annot=True, cmap='BrBG')\n",
    "    heatmap = heatmap.set_title(title, fontdict={'fontsize': 18}, pad=16)    \n",
    "    return heatmap"
   ]
  },
  {
   "cell_type": "code",
   "execution_count": null,
   "metadata": {
    "execution": {
     "iopub.execute_input": "2021-07-26T13:22:27.439110Z",
     "iopub.status.busy": "2021-07-26T13:22:27.438711Z",
     "iopub.status.idle": "2021-07-26T13:22:30.238162Z",
     "shell.execute_reply": "2021-07-26T13:22:30.237245Z",
     "shell.execute_reply.started": "2021-07-26T13:22:27.439081Z"
    },
    "papermill": {
     "duration": 2.610727,
     "end_time": "2021-07-22T15:30:45.178419",
     "exception": false,
     "start_time": "2021-07-22T15:30:42.567692",
     "status": "completed"
    },
    "tags": []
   },
   "outputs": [],
   "source": [
    "temp_df = train.copy()\n",
    "temp_df.drop('app_date', axis=1, inplace=True)\n",
    "label_encoder = LabelEncoder()\n",
    "for feature in bin_features + cat_features:\n",
    "    temp_df[feature] = label_encoder.fit_transform(train[feature])\n",
    "showNumCorr(temp_df, temp_df.columns)"
   ]
  },
  {
   "cell_type": "code",
   "execution_count": null,
   "metadata": {
    "execution": {
     "iopub.execute_input": "2021-07-26T13:22:30.239743Z",
     "iopub.status.busy": "2021-07-26T13:22:30.239440Z",
     "iopub.status.idle": "2021-07-26T13:22:30.259931Z",
     "shell.execute_reply": "2021-07-26T13:22:30.258950Z",
     "shell.execute_reply.started": "2021-07-26T13:22:30.239712Z"
    },
    "papermill": {
     "duration": 0.160562,
     "end_time": "2021-07-22T15:30:45.473864",
     "exception": false,
     "start_time": "2021-07-22T15:30:45.313302",
     "status": "completed"
    },
    "tags": []
   },
   "outputs": [],
   "source": [
    "# Получили значительную корреляцию car_type2 c car и car_type\n",
    "train.drop(['car', 'car_type'], axis=1, inplace=True, errors='ignore')\n",
    "if 'car' in bin_features:\n",
    "    bin_features.remove('car') \n",
    "if 'car_type' in bin_features:\n",
    "    bin_features.remove('car_type') \n",
    "# и region_rating c region_cat при этом все таки region_rating все таки больше влияет на default\n",
    "train.drop(['region_cat'], axis=1, inplace=True, errors='ignore')\n",
    "if 'region_cat' in cat_features:\n",
    "    cat_features.remove('region_cat') "
   ]
  },
  {
   "cell_type": "code",
   "execution_count": null,
   "metadata": {
    "execution": {
     "iopub.execute_input": "2021-07-26T13:22:30.261503Z",
     "iopub.status.busy": "2021-07-26T13:22:30.261232Z",
     "iopub.status.idle": "2021-07-26T13:22:30.271463Z",
     "shell.execute_reply": "2021-07-26T13:22:30.270752Z",
     "shell.execute_reply.started": "2021-07-26T13:22:30.261477Z"
    },
    "papermill": {
     "duration": 0.140968,
     "end_time": "2021-07-22T15:30:45.750637",
     "exception": false,
     "start_time": "2021-07-22T15:30:45.609669",
     "status": "completed"
    },
    "tags": []
   },
   "outputs": [],
   "source": [
    "### Features preparing"
   ]
  },
  {
   "cell_type": "code",
   "execution_count": null,
   "metadata": {
    "execution": {
     "iopub.execute_input": "2021-07-26T13:22:30.273109Z",
     "iopub.status.busy": "2021-07-26T13:22:30.272686Z",
     "iopub.status.idle": "2021-07-26T13:22:30.371173Z",
     "shell.execute_reply": "2021-07-26T13:22:30.370166Z",
     "shell.execute_reply.started": "2021-07-26T13:22:30.273077Z"
    },
    "papermill": {
     "duration": 0.220996,
     "end_time": "2021-07-22T15:30:46.102744",
     "exception": false,
     "start_time": "2021-07-22T15:30:45.881748",
     "status": "completed"
    },
    "tags": []
   },
   "outputs": [],
   "source": [
    "# Binary features encode\n",
    "label_encoder = LabelEncoder()\n",
    "for feature in bin_features:\n",
    "    train[feature] = label_encoder.fit_transform(train[feature])\n",
    "train.sample(2)"
   ]
  },
  {
   "cell_type": "code",
   "execution_count": null,
   "metadata": {
    "execution": {
     "iopub.execute_input": "2021-07-26T13:22:30.372612Z",
     "iopub.status.busy": "2021-07-26T13:22:30.372335Z",
     "iopub.status.idle": "2021-07-26T13:22:30.554485Z",
     "shell.execute_reply": "2021-07-26T13:22:30.553455Z",
     "shell.execute_reply.started": "2021-07-26T13:22:30.372585Z"
    },
    "papermill": {
     "duration": 0.29968,
     "end_time": "2021-07-22T15:30:46.536108",
     "exception": false,
     "start_time": "2021-07-22T15:30:46.236428",
     "status": "completed"
    },
    "tags": []
   },
   "outputs": [],
   "source": [
    "# Categorical features encode\n",
    "onehot_encoder = OneHotEncoder(sparse = False, handle_unknown='ignore')\n",
    "onehot_encoder = onehot_encoder.fit(train[cat_features])\n",
    "df = pd.DataFrame(onehot_encoder.transform(train[cat_features]), \n",
    "                  columns=onehot_encoder.get_feature_names(input_features=cat_features),\n",
    "                  index=train.index, dtype=int)\n",
    "train = train.drop(cat_features, axis=1)\n",
    "train = pd.concat([train, df], axis=1)\n",
    "train.sample(2)"
   ]
  },
  {
   "cell_type": "code",
   "execution_count": null,
   "metadata": {
    "execution": {
     "iopub.execute_input": "2021-07-26T13:22:30.555909Z",
     "iopub.status.busy": "2021-07-26T13:22:30.555610Z",
     "iopub.status.idle": "2021-07-26T13:22:30.626480Z",
     "shell.execute_reply": "2021-07-26T13:22:30.625609Z",
     "shell.execute_reply.started": "2021-07-26T13:22:30.555881Z"
    },
    "papermill": {
     "duration": 0.191249,
     "end_time": "2021-07-22T15:30:46.864347",
     "exception": false,
     "start_time": "2021-07-22T15:30:46.673098",
     "status": "completed"
    },
    "tags": []
   },
   "outputs": [],
   "source": [
    "scaler = StandardScaler()\n",
    "scaler.fit(train[num_features])\n",
    "scaled_df = pd.DataFrame(scaler.transform(train[num_features]), \n",
    "                         columns=num_features, index=train.index)\n",
    "train = train.drop(num_features, axis=1)\n",
    "train = pd.concat([train, scaled_df], axis=1)\n",
    "train.sample(2)"
   ]
  },
  {
   "cell_type": "code",
   "execution_count": null,
   "metadata": {
    "execution": {
     "iopub.execute_input": "2021-07-26T13:22:30.627837Z",
     "iopub.status.busy": "2021-07-26T13:22:30.627565Z",
     "iopub.status.idle": "2021-07-26T13:22:30.660653Z",
     "shell.execute_reply": "2021-07-26T13:22:30.659668Z",
     "shell.execute_reply.started": "2021-07-26T13:22:30.627810Z"
    },
    "papermill": {
     "duration": 0.165085,
     "end_time": "2021-07-22T15:30:47.163517",
     "exception": false,
     "start_time": "2021-07-22T15:30:46.998432",
     "status": "completed"
    },
    "tags": []
   },
   "outputs": [],
   "source": [
    "train.drop('app_date', axis=1, inplace=True, errors='ignore')\n",
    "train.sample(2)"
   ]
  },
  {
   "cell_type": "markdown",
   "metadata": {
    "papermill": {
     "duration": 0.134487,
     "end_time": "2021-07-22T15:30:47.435173",
     "exception": false,
     "start_time": "2021-07-22T15:30:47.300686",
     "status": "completed"
    },
    "tags": []
   },
   "source": [
    "### Make base model"
   ]
  },
  {
   "cell_type": "code",
   "execution_count": null,
   "metadata": {
    "execution": {
     "iopub.execute_input": "2021-07-26T13:22:30.662794Z",
     "iopub.status.busy": "2021-07-26T13:22:30.662308Z",
     "iopub.status.idle": "2021-07-26T13:22:30.677143Z",
     "shell.execute_reply": "2021-07-26T13:22:30.676406Z",
     "shell.execute_reply.started": "2021-07-26T13:22:30.662747Z"
    },
    "papermill": {
     "duration": 0.150996,
     "end_time": "2021-07-22T15:30:47.719479",
     "exception": false,
     "start_time": "2021-07-22T15:30:47.568483",
     "status": "completed"
    },
    "tags": []
   },
   "outputs": [],
   "source": [
    "def showImportance(model, features, n=20):\n",
    "    lr_coef = pd.DataFrame(model.coef_.T, columns=['coefficient'], index=features)\n",
    "    f, ax = plt.subplots(1, 1, figsize=(16, 10), sharex=True)\n",
    "    top_lr_coef = lr_coef.sort_values(by='coefficient', ascending=False).head(n)\n",
    "    low_lr_coef = lr_coef.sort_values(by='coefficient', ascending=False).tail(n)\n",
    "    df4display = pd.concat([top_lr_coef, low_lr_coef])\n",
    "    sns.barplot(x=df4display['coefficient'], y=df4display.index, palette=\"vlag\", ax=ax)\n",
    "    _ = ax.set_ylabel(\"Признак\")\n",
    "    _ = ax.set_title(\"Значимость признаков\")\n",
    "    \n",
    "    \n",
    "def showMetrics(y_test, y_prob, y_pred):\n",
    "    cm = confusion_matrix(y_test, y_pred)\n",
    "    cmd = ConfusionMatrixDisplay(cm, display_labels=['success','default'])\n",
    "    fpr, tpr, threshold = roc_curve(y_test, y_prob)\n",
    "    roc_auc = roc_auc_score(y_test, y_prob)\n",
    "    fig, ax = plt.subplots(nrows=1, ncols=2)\n",
    "    fig.set_size_inches(16, 6)\n",
    "\n",
    "    ax[0].plot([0, 1], label='Baseline', linestyle='--')\n",
    "    ax[0].plot(fpr, tpr, label = 'Regression')\n",
    "    ax[0].set_title('ROC AUC = %0.10f' % roc_auc)\n",
    "    ax[0].set_ylabel('True Positive Rate')\n",
    "    ax[0].set_xlabel('False Positive Rate')\n",
    "    ax[0].legend(loc='lower right')\n",
    "\n",
    "    cmd.plot(ax=ax[1])\n",
    "    cmd.ax_.set(xlabel='Predicted', ylabel='True')\n",
    "    plt.show()\n",
    "\n",
    "def split(df):\n",
    "    X_train, X_test, y_train, y_test = train_test_split(df.drop('default', axis=1), \n",
    "                                                    df['default'], \n",
    "                                                    test_size=0.20, \n",
    "                                                    stratify=df['default'], \n",
    "                                                    random_state=42)\n",
    "    return X_train, X_test, y_train, y_test\n"
   ]
  },
  {
   "cell_type": "code",
   "execution_count": null,
   "metadata": {
    "execution": {
     "iopub.execute_input": "2021-07-26T13:22:30.679072Z",
     "iopub.status.busy": "2021-07-26T13:22:30.678595Z",
     "iopub.status.idle": "2021-07-26T13:22:30.707529Z",
     "shell.execute_reply": "2021-07-26T13:22:30.706389Z",
     "shell.execute_reply.started": "2021-07-26T13:22:30.679039Z"
    }
   },
   "outputs": [],
   "source": [
    "class ScorerHistory:\n",
    "    scores_columns = ['estimator', 'roc_auc',\n",
    "                      'accuracy', 'precision', 'recall', 'f1']\n",
    "    scores_df = pd.DataFrame([], columns=scores_columns)\n",
    "\n",
    "    def add2scores(name, y_test, y_pred, y_prob):\n",
    "        df = pd.DataFrame([[name,\n",
    "                            roc_auc_score(y_test, y_prob),\n",
    "                            accuracy_score(y_test, y_pred),\n",
    "                            precision_score(y_test, y_pred),\n",
    "                            recall_score(y_test, y_pred),\n",
    "                            f1_score(y_test, y_pred)]], columns=ScorerHistory.scores_columns)\n",
    "        ScorerHistory.scores_df = pd.concat([ScorerHistory.scores_df, df], axis=0)\n",
    "        return ScorerHistory.scores_df\n",
    "    \n",
    "\n",
    "class ScorerBase():\n",
    "    '''\n",
    "    Базовый класс для предобработки данных\n",
    "    Делает кодирование, шкалирование, обучение модели и предсказания\n",
    "    '''\n",
    "    def __init__(self, X_train, y_train):\n",
    "        self._data = X_train\n",
    "        self._target = y_train\n",
    "        self._features = {\n",
    "            'num': ['age', 'score_bki', 'decline_app_cnt', 'bki_request_cnt', 'income'],\n",
    "            'cat': ['education', 'work_address', 'home_address'],\n",
    "            'ord': ['region_rating', 'first_time', 'sna'],\n",
    "            'bin': ['sex', 'car', 'car_type', 'foreign_passport', 'good_work']\n",
    "        }\n",
    "        \n",
    "        \n",
    "    def prepare(self, df, features):\n",
    "        new_features = copy.deepcopy(features)\n",
    "        columns = []\n",
    "        for v in new_features.values():\n",
    "            for f in v:\n",
    "                columns.append(f)\n",
    "        new_df = df.copy(columns)\n",
    "        # Clean data\n",
    "        new_df['education'].fillna('SCH', inplace=True)\n",
    "        # Дата представлена в формате %d%b%Y - сразу переведем в тип datetime\n",
    "        new_df['app_date'] = pd.to_datetime(data['app_date'])        \n",
    "        return new_df, new_features\n",
    "    \n",
    "    def fit(self, df, features):\n",
    "        # Fit encoders and scalers\n",
    "        self._label_encoder = LabelEncoder()\n",
    "        self._onehot_encoder = OneHotEncoder(sparse = False, handle_unknown='ignore')\n",
    "        onehot_encoder = self._onehot_encoder.fit(df[features['cat']])\n",
    "        self._num_scaler = StandardScaler()\n",
    "        self._num_scaler.fit(df[features['num']])\n",
    "        self._ord_scaler = StandardScaler()\n",
    "        self._ord_scaler.fit(df[features['ord']])\n",
    "        return self\n",
    "    \n",
    "    def transform(self, df, features):\n",
    "        assert(self._label_encoder is not None)\n",
    "        assert(self._onehot_encoder is not None)\n",
    "        assert(self._num_scaler is not None)\n",
    "        assert(self._ord_scaler is not None)\n",
    "        new_df = pd.DataFrame([], index=df.index)\n",
    "        # Binary features encode\n",
    "        for feature in features['bin']:\n",
    "            new_df[feature] = self._label_encoder.fit_transform(df[feature])\n",
    "        # Categorical features encode\n",
    "        columns = self._onehot_encoder.get_feature_names(input_features=features['cat'])\n",
    "        encoded_df =  pd.DataFrame(self._onehot_encoder.transform(df[features['cat']]), \n",
    "                                   columns=columns, index=df.index, dtype=int)\n",
    "        new_df = pd.concat([new_df, encoded_df], axis=1)\n",
    "        # Numeric features scale\n",
    "        scaled_df = pd.DataFrame(self._num_scaler.transform(df[features['num']]), \n",
    "                                 columns=features['num'], index=df.index)\n",
    "        new_df = pd.concat([new_df, scaled_df], axis=1)\n",
    "        # Ordered features \n",
    "#        scaled_df = pd.DataFrame(self._ord_scaler.transform(df[features['ord']]), \n",
    "#                                 columns=features['ord'], index=df.index)\n",
    "        scaled_df = df[features['ord']]\n",
    "        new_df = pd.concat([new_df, scaled_df], axis=1)\n",
    "        return new_df\n",
    "    \n",
    "    def prepare_fit_transform(self):\n",
    "        (df, features)  = self.prepare(self._data, self._features)\n",
    "        self.fit(df, features)\n",
    "        return self.transform(df, features), self._target\n",
    "    \n",
    "    def get_target(self):\n",
    "        return self._target\n",
    "    \n",
    "    def train(self, model):\n",
    "        self._model = model\n",
    "        assert(self._model is not None)\n",
    "        (df, features) = self.prepare(self._data, self._features)\n",
    "        df = self.fit(df, features).transform(df, features)\n",
    "        self._model.fit(df, self._target)\n",
    "        return model\n",
    "    \n",
    "    def predict(self, test):\n",
    "        assert(self._model is not None)\n",
    "        (df, features) = self.prepare(test, self._features)\n",
    "        df = self.transform(df, features)\n",
    "        return self._model.predict(df)\n",
    "\n",
    "    def predict_proba(self, test):\n",
    "        assert(self._model is not None)\n",
    "        (df, features) = self.prepare(test, self._features)\n",
    "        df = self.transform(df, features)\n",
    "        return self._model.predict_proba(df)[:,1]\n",
    "    "
   ]
  },
  {
   "cell_type": "code",
   "execution_count": null,
   "metadata": {
    "execution": {
     "iopub.execute_input": "2021-07-26T13:22:30.709249Z",
     "iopub.status.busy": "2021-07-26T13:22:30.708830Z",
     "iopub.status.idle": "2021-07-26T13:22:36.999605Z",
     "shell.execute_reply": "2021-07-26T13:22:36.998545Z",
     "shell.execute_reply.started": "2021-07-26T13:22:30.709185Z"
    }
   },
   "outputs": [],
   "source": [
    "# Base model\n",
    "data = pd.read_csv('../input/sf-dst-scoring/train.csv')\n",
    "X_train, X_test, y_train, y_test = split(data)\n",
    "scorer = ScorerBase(X_train, y_train)\n",
    "display(scorer.prepare_fit_transform()[0].sample(5))\n",
    "model = LogisticRegression(max_iter=1000, random_state=42)\n",
    "scorer.train(model)\n",
    "y_prob = scorer.predict_proba(X_test)\n",
    "base_roc_auc = roc_auc_score(y_test, y_prob)\n",
    "y_pred = scorer.predict(X_test)\n",
    "_ = showMetrics(y_test, y_prob, y_pred)\n",
    "ScorerHistory.add2scores('base', y_test, y_pred, y_prob)"
   ]
  },
  {
   "cell_type": "code",
   "execution_count": null,
   "metadata": {
    "execution": {
     "iopub.execute_input": "2021-07-26T13:22:37.001005Z",
     "iopub.status.busy": "2021-07-26T13:22:37.000620Z",
     "iopub.status.idle": "2021-07-26T13:22:38.071357Z",
     "shell.execute_reply": "2021-07-26T13:22:38.070591Z",
     "shell.execute_reply.started": "2021-07-26T13:22:37.000976Z"
    }
   },
   "outputs": [],
   "source": [
    "showImportance(model, scorer.prepare_fit_transform()[0].columns, n=20)"
   ]
  },
  {
   "cell_type": "code",
   "execution_count": null,
   "metadata": {
    "execution": {
     "iopub.execute_input": "2021-07-26T13:22:38.072816Z",
     "iopub.status.busy": "2021-07-26T13:22:38.072421Z",
     "iopub.status.idle": "2021-07-26T13:22:38.081755Z",
     "shell.execute_reply": "2021-07-26T13:22:38.080914Z",
     "shell.execute_reply.started": "2021-07-26T13:22:38.072786Z"
    }
   },
   "outputs": [],
   "source": [
    "class ScorerGen(ScorerBase):\n",
    "    '''\n",
    "    Класс для предобработки данных с переопределеннм методом prepare,\n",
    "    где генирируются и отбираются признаки\n",
    "    '''\n",
    "    \n",
    "    def boxcox(self, df):\n",
    "        boxcox_df = df.copy()\n",
    "        for f in df.columns:\n",
    "            zero_indices = df[f] == 0\n",
    "            bc, lam = stats.boxcox(df.loc[df[f] > 0, f])\n",
    "            boxcox_df.loc[~zero_indices, f] = bc\n",
    "            boxcox_df.loc[zero_indices, f] = -1 / lam\n",
    "        return boxcox_df    \n",
    "    \n",
    "    def prepare(self, df, features):\n",
    "        (df, features) = super().prepare(df, features)\n",
    "        \n",
    "        # Add features\n",
    "        df['income'] = self.boxcox(df[['income']])\n",
    "        df['app_days'] = (df['app_date'] - datetime(2014, 1, 1)).dt.days\n",
    "        features['num'].append('app_days')\n",
    "#        df['hw_address'] = df['home_address'] + df['work_address']\n",
    "#        features['ord'].append('hw_address')\n",
    "#        df['has_decline'] = df['decline_app_cnt'] > 0 \n",
    "#        features['bin'].append('has_decline')\n",
    "                       \n",
    "        # remove features\n",
    " \n",
    "        return df, features\n",
    "    \n",
    "            "
   ]
  },
  {
   "cell_type": "code",
   "execution_count": null,
   "metadata": {
    "execution": {
     "iopub.execute_input": "2021-07-26T13:22:38.083289Z",
     "iopub.status.busy": "2021-07-26T13:22:38.082831Z",
     "iopub.status.idle": "2021-07-26T13:22:43.105884Z",
     "shell.execute_reply": "2021-07-26T13:22:43.104902Z",
     "shell.execute_reply.started": "2021-07-26T13:22:38.083257Z"
    }
   },
   "outputs": [],
   "source": [
    "# Model with generated features\n",
    "data = pd.read_csv('../input/sf-dst-scoring/train.csv')\n",
    "X_train, X_test, y_train, y_test = split(data)\n",
    "scorer = ScorerGen(X_train, y_train)\n",
    "display(scorer.prepare_fit_transform()[0].sample(5))\n",
    "model = LogisticRegression(max_iter=1000, random_state=42)\n",
    "scorer.train(model)\n",
    "y_prob = scorer.predict_proba(X_test)\n",
    "base_roc_auc = roc_auc_score(y_test, y_prob)\n",
    "y_pred = scorer.predict(X_test)\n",
    "_ = showMetrics(y_test, y_prob, y_pred)\n",
    "ScorerHistory.add2scores('lr+gen', y_test, y_pred, y_prob)"
   ]
  },
  {
   "cell_type": "code",
   "execution_count": null,
   "metadata": {
    "execution": {
     "iopub.execute_input": "2021-07-26T13:22:43.107597Z",
     "iopub.status.busy": "2021-07-26T13:22:43.107269Z",
     "iopub.status.idle": "2021-07-26T13:22:44.260282Z",
     "shell.execute_reply": "2021-07-26T13:22:44.259299Z",
     "shell.execute_reply.started": "2021-07-26T13:22:43.107566Z"
    }
   },
   "outputs": [],
   "source": [
    "showImportance(model, scorer.prepare_fit_transform()[0].columns, n=20)"
   ]
  },
  {
   "cell_type": "code",
   "execution_count": null,
   "metadata": {
    "execution": {
     "iopub.execute_input": "2021-07-26T13:22:44.262135Z",
     "iopub.status.busy": "2021-07-26T13:22:44.261810Z",
     "iopub.status.idle": "2021-07-26T13:22:58.362671Z",
     "shell.execute_reply": "2021-07-26T13:22:58.361411Z",
     "shell.execute_reply.started": "2021-07-26T13:22:44.262102Z"
    }
   },
   "outputs": [],
   "source": [
    "from sklearn.model_selection import StratifiedKFold\n",
    "# Model with generated features and LogisticRegressionCV\n",
    "data = pd.read_csv('../input/sf-dst-scoring/train.csv')\n",
    "X_train, X_test, y_train, y_test = split(data)\n",
    "\n",
    "scorer = ScorerGen(X_train, y_train)\n",
    "display(scorer.prepare_fit_transform()[0].sample(5))\n",
    "Cs = np.logspace(-5, 5, 11)\n",
    "cv = StratifiedKFold(5, shuffle=True, random_state=42)\n",
    "model = LogisticRegressionCV(Cs=Cs, max_iter=1000, cv=cv, random_state=42,\n",
    "                             n_jobs=-1, verbose=2, scoring='f1')\n",
    "model = scorer.train(model)\n",
    "print('Best C =', model.C_)\n",
    "y_prob = scorer.predict_proba(X_test)\n",
    "base_roc_auc = roc_auc_score(y_test, y_prob)\n",
    "y_pred = scorer.predict(X_test)\n",
    "_ = showMetrics(y_test, y_prob, y_pred)\n",
    "ScorerHistory.add2scores('lr+cv+f1', y_test, y_pred, y_prob)"
   ]
  },
  {
   "cell_type": "code",
   "execution_count": null,
   "metadata": {
    "execution": {
     "iopub.execute_input": "2021-07-26T13:22:58.365014Z",
     "iopub.status.busy": "2021-07-26T13:22:58.364536Z",
     "iopub.status.idle": "2021-07-26T13:22:59.543873Z",
     "shell.execute_reply": "2021-07-26T13:22:59.542812Z",
     "shell.execute_reply.started": "2021-07-26T13:22:58.364959Z"
    }
   },
   "outputs": [],
   "source": [
    "showImportance(model, scorer.prepare_fit_transform()[0].columns, n=20)"
   ]
  },
  {
   "cell_type": "code",
   "execution_count": null,
   "metadata": {
    "execution": {
     "iopub.execute_input": "2021-07-26T13:22:59.545630Z",
     "iopub.status.busy": "2021-07-26T13:22:59.545305Z"
    }
   },
   "outputs": [],
   "source": [
    "# Model with generated features and LogisticRegressionCV с балансировкой\n",
    "data = pd.read_csv('../input/sf-dst-scoring/train.csv')\n",
    "X_train, X_test, y_train, y_test = split(data)\n",
    "\n",
    "scorer = ScorerGen(X_train, y_train)\n",
    "display(scorer.prepare_fit_transform()[0].sample(5))\n",
    "cv = StratifiedKFold(5, shuffle=True, random_state=42)\n",
    "model = LogisticRegressionCV(Cs=9, max_iter=1000, cv=cv, random_state=42,\n",
    "                             penalty='l2', solver='newton-cg',\n",
    "                             verbose=2, n_jobs=-1, scoring='roc_auc', class_weight='balanced')\n",
    "scorer.train(model)\n",
    "print('Best C =', model.C_)\n",
    "y_prob = scorer.predict_proba(X_test)\n",
    "base_roc_auc = roc_auc_score(y_test, y_prob)\n",
    "y_pred = scorer.predict(X_test)\n",
    "_ = showMetrics(y_test, y_prob, y_pred)\n",
    "ScorerHistory.add2scores('lr+gen+cv+roc_auc+balance', y_test, y_pred, y_prob)"
   ]
  },
  {
   "cell_type": "code",
   "execution_count": null,
   "metadata": {},
   "outputs": [],
   "source": [
    "showImportance(model, scorer.prepare_fit_transform()[0].columns, n=20)"
   ]
  },
  {
   "cell_type": "code",
   "execution_count": null,
   "metadata": {},
   "outputs": [],
   "source": [
    "# Model with generated features and LogisticRegressionCV с балансировкой\n",
    "data = pd.read_csv('../input/sf-dst-scoring/train.csv')\n",
    "X_train, X_test, y_train, y_test = split(data)\n",
    "\n",
    "scorer = ScorerGen(X_train, y_train)\n",
    "display(scorer.prepare_fit_transform()[0].sample(5))\n",
    "\n",
    "grid_values = {\n",
    "    'penalty': ['l2'], \n",
    "    'C': [0.01],\n",
    "    'solver': ['newton-cg', 'lbfgs', 'sag', 'saga'],\n",
    "    'class_weight': [None, 'balanced'],\n",
    "}\n",
    "model = LogisticRegression(max_iter=1000, random_state=42)\n",
    "model_cv = GridSearchCV(model, grid_values, cv=5, n_jobs=-1, verbose=3, \n",
    "                        scoring=['f1', 'roc_auc'], refit='roc_auc')\n",
    "model_cv.fit(scorer.prepare_fit_transform()[0], scorer.get_target())\n",
    "print('Best params', model_cv.best_params_)\n",
    "model = model_cv.best_estimator_\n",
    "\n",
    "scorer.train(model)\n",
    "\n",
    "y_prob = scorer.predict_proba(X_test)\n",
    "base_roc_auc = roc_auc_score(y_test, y_prob)\n",
    "y_pred = scorer.predict(X_test)\n",
    "_ = showMetrics(y_test, y_prob, y_pred)\n",
    "ScorerHistory.add2scores('lr+gen+gs+roc_auc+f1', y_test, y_pred, y_prob)"
   ]
  },
  {
   "cell_type": "code",
   "execution_count": null,
   "metadata": {},
   "outputs": [],
   "source": [
    "#showImportance(model, scorer.prepare_fit_transform()[0].columns, n=20)"
   ]
  },
  {
   "cell_type": "code",
   "execution_count": null,
   "metadata": {},
   "outputs": [],
   "source": [
    "class ScorerSampler(ScorerGen):\n",
    "    def __init__(self, X_train, y_train):\n",
    "        super().__init__(X_train, y_train)\n",
    "        self._sampler = None\n",
    "    \n",
    "    def prepare_fit_transform(self):\n",
    "        assert(self._sampler is not None)\n",
    "        (df, features)  = self.prepare(self._data, self._features)\n",
    "        df = self.fit(df, features).transform(df, features)\n",
    "        X_resampled, y_resampled = self._sampler.fit_resample(df, self._target)\n",
    "        print(X_resampled.shape)\n",
    "        return X_resampled, y_resampled\n",
    "\n",
    "    def train(self, model):\n",
    "        assert(self._sampler is not None)\n",
    "        self._model = model\n",
    "        assert(self._model is not None)\n",
    "        (df, features) = self.prepare(self._data, self._features)\n",
    "        df = self.fit(df, features).transform(df, features)\n",
    "        X_resampled, y_resampled = self._sampler.fit_resample(df, self._target)\n",
    "        print(X_resampled.shape)\n",
    "        self._model.fit(X_resampled, y_resampled)\n",
    "        return model"
   ]
  },
  {
   "cell_type": "code",
   "execution_count": null,
   "metadata": {},
   "outputs": [],
   "source": [
    "from imblearn import over_sampling, under_sampling\n",
    "class ScorerOver(ScorerSampler):\n",
    "    '''\n",
    "    Класс для сэмплирования незбалансированных данных\n",
    "    '''\n",
    "    def __init__(self, X_train, y_train):\n",
    "        super().__init__(X_train, y_train)\n",
    "        self._sampler = over_sampling.RandomOverSampler(random_state=42)\n",
    "#        self._sampler = over_sampling.SMOTE()\n",
    "#        self._sampler = over_sampling.ADASYN()\n",
    "        \n"
   ]
  },
  {
   "cell_type": "code",
   "execution_count": null,
   "metadata": {},
   "outputs": [],
   "source": [
    "# Model with generated features and LogisticRegressionCV and sampling\n",
    "from sklearn.model_selection import StratifiedKFold\n",
    "data = pd.read_csv('../input/sf-dst-scoring/train.csv')\n",
    "X_train, X_test, y_train, y_test = split(data)\n",
    "#'C': 0.01, 'class_weight': 'balanced', 'penalty': 'l2', 'solver': 'saga'\n",
    "scorer = ScorerOver(X_train, y_train)\n",
    "display(scorer.prepare_fit_transform()[0].sample(5))\n",
    "model = LogisticRegression(C=0.01, max_iter=1000, random_state=42, solver='saga')\n",
    "model = scorer.train(model)\n",
    "y_prob = scorer.predict_proba(X_test)\n",
    "base_roc_auc = roc_auc_score(y_test, y_prob)\n",
    "y_pred = scorer.predict(X_test)\n",
    "_ = showMetrics(y_test, y_prob, y_pred)\n",
    "ScorerHistory.add2scores('lr+cv+roc_auc+oversamp', y_test, y_pred, y_prob)\n"
   ]
  },
  {
   "cell_type": "code",
   "execution_count": null,
   "metadata": {},
   "outputs": [],
   "source": [
    "from imblearn import over_sampling, under_sampling\n",
    "class ScorerUnder(ScorerSampler):\n",
    "    '''\n",
    "    Класс для сэмплирования незбалансированных данных\n",
    "    '''\n",
    "    def __init__(self, X_train, y_train):\n",
    "        super().__init__(X_train, y_train)\n",
    "        self._sampler = under_sampling.RandomUnderSampler(random_state=42)\n",
    "#        self._sampler = over_sampling.NearMiss(version=1)()\n",
    "\n"
   ]
  },
  {
   "cell_type": "code",
   "execution_count": null,
   "metadata": {},
   "outputs": [],
   "source": [
    "# Model with generated features and LogisticRegressionCV and sampling\n",
    "from sklearn.model_selection import StratifiedKFold\n",
    "data = pd.read_csv('../input/sf-dst-scoring/train.csv')\n",
    "X_train, X_test, y_train, y_test = split(data)\n",
    "\n",
    "scorer = ScorerUnder(X_train, y_train)\n",
    "display(scorer.prepare_fit_transform()[0].sample(5))\n",
    "model = LogisticRegression(C=0.01, max_iter=1000, random_state=42, solver='saga')\n",
    "model = scorer.train(model)\n",
    "y_prob = scorer.predict_proba(X_test)\n",
    "base_roc_auc = roc_auc_score(y_test, y_prob)\n",
    "y_pred = scorer.predict(X_test)\n",
    "_ = showMetrics(y_test, y_prob, y_pred)\n",
    "ScorerHistory.add2scores('lr+cv+roc_auc+undersamp', y_test, y_pred, y_prob)"
   ]
  },
  {
   "cell_type": "code",
   "execution_count": null,
   "metadata": {
    "papermill": {
     "duration": 0.795392,
     "end_time": "2021-07-22T15:30:56.077984",
     "exception": false,
     "start_time": "2021-07-22T15:30:55.282592",
     "status": "completed"
    },
    "tags": []
   },
   "outputs": [],
   "source": [
    "showImportance(model, scorer.prepare_fit_transform()[0].columns, n=20)"
   ]
  },
  {
   "cell_type": "code",
   "execution_count": null,
   "metadata": {},
   "outputs": [],
   "source": [
    "# Построение XGB модели c балансировкой\n",
    "data = pd.read_csv('../input/sf-dst-scoring/train.csv')\n",
    "X_train, X_test, y_train, y_test = split(data)\n",
    "\n",
    "scorer = ScorerGen(X_train, y_train)\n",
    "display(scorer.prepare_fit_transform()[0].sample(5))\n",
    "\n",
    "sum_pos = sum(y_train)\n",
    "sum_neg = len(y_train) - sum_pos\n",
    "class_weights=[1, sum_neg / sum_pos]\n",
    "model = XGBClassifier(random_state=42, subsample=0.8, reg_lambda=50, n_estimators=50, \n",
    "                      max_depth=3, learning_rate=0.2, colsample_bytree=0.5,\n",
    "                      scale_pos_weight=sum_neg / sum_pos,\n",
    "                      objective='binary:logistic', \n",
    "                      n_jobs=-1, use_label_encoder=False)\n",
    "scorer.train(model)\n",
    "y_prob = scorer.predict_proba(X_test)\n",
    "base_roc_auc = roc_auc_score(y_test, y_prob)\n",
    "y_pred = scorer.predict(X_test)\n",
    "_ = showMetrics(y_test, y_prob, y_pred)\n",
    "ScorerHistory.add2scores('xgb', y_test, y_pred, y_prob)"
   ]
  },
  {
   "cell_type": "code",
   "execution_count": null,
   "metadata": {},
   "outputs": [],
   "source": [
    "class ScorerBoost(ScorerBase):\n",
    "    '''\n",
    "    Для CatBoost избавимся от onehot кодирования, где-то прочитал что сие не есть хорошо\n",
    "    '''\n",
    "    \n",
    "    def boxcox(self, df):\n",
    "        boxcox_df = df.copy()\n",
    "        for f in df.columns:\n",
    "            zero_indices = df[f] == 0\n",
    "            bc, lam = stats.boxcox(df.loc[df[f] > 0, f])\n",
    "            boxcox_df.loc[~zero_indices, f] = bc\n",
    "            boxcox_df.loc[zero_indices, f] = -1 / lam\n",
    "        return boxcox_df    \n",
    "    \n",
    "    def prepare(self, df, features):\n",
    "        (df, features) = super().prepare(df, features)\n",
    "        # Add features\n",
    "        df['income'] = self.boxcox(df[['income']])\n",
    "#        df['bki_request_cnt'] = self.boxcox(df[['bki_request_cnt']])\n",
    "        df['car_type2'] = df['car'] + df['car_type']\n",
    "#        df['car_type2'] = df['car_type2'].map({'NY': 0, 'NN': 1, 'YN': 2, 'YY': 3})\n",
    "        features['cat'].append('car_type2')\n",
    "        df['app_days'] = (df['app_date'] - datetime(2014, 1, 1)).dt.days\n",
    "        features['num'].append('app_days')\n",
    "        df['hw_address'] = df['home_address'] + df['work_address']\n",
    "        features['ord'].append('hw_address')\n",
    "        edu_map = {'UNK': 0, 'SCH': 1, 'GRD': 2, 'UGR': 3, 'PGR': 4, 'ACD': 5}\n",
    "        df['education'] = df['education'].map(edu_map)\n",
    "        features['ord'].append('education')\n",
    "        features['cat'].remove('education')\n",
    "                        \n",
    "        # remove features\n",
    "        df = df.drop('car', axis=1)\n",
    "        features['bin'].remove('car')\n",
    "        df = df.drop('car_type', axis=1)\n",
    "        features['bin'].remove('car_type')\n",
    "        df = df.drop('home_address', axis=1)\n",
    "        features['cat'].remove('home_address')\n",
    "        df = df.drop('work_address', axis=1)\n",
    "        features['cat'].remove('work_address')\n",
    " \n",
    "        return df, features\n",
    "    \n",
    "            "
   ]
  },
  {
   "cell_type": "code",
   "execution_count": null,
   "metadata": {},
   "outputs": [],
   "source": [
    "data = pd.read_csv('../input/sf-dst-scoring/train.csv')\n",
    "X_train, X_test, y_train, y_test = split(data)\n",
    "\n",
    "scorer = ScorerGen(X_train, y_train)\n",
    "display(scorer.prepare_fit_transform()[0].sample(5))\n",
    "\n",
    "sum_pos = sum(y_train)\n",
    "sum_neg = len(y_train) - sum_pos\n",
    "class_weights=[1, sum_neg / sum_pos]\n",
    "model = CatBoostClassifier(iterations=300,\n",
    "                           metric_period=100,\n",
    "                           random_seed=42,\n",
    "                           depth=3,\n",
    "                           l2_leaf_reg=8,\n",
    "                           eval_metric='AUC',\n",
    "                           early_stopping_rounds=10,\n",
    "                           learning_rate=0.05,\n",
    "                           class_weights=class_weights\n",
    "                          )\n",
    "\n",
    "scorer.train(model)\n",
    "y_prob = scorer.predict_proba(X_test)\n",
    "base_roc_auc = roc_auc_score(y_test, y_prob)\n",
    "y_pred = scorer.predict(X_test)\n",
    "_ = showMetrics(y_test, y_prob, y_pred)\n",
    "ScorerHistory.add2scores('catboost', y_test, y_pred, y_prob)\n"
   ]
  },
  {
   "cell_type": "code",
   "execution_count": null,
   "metadata": {
    "papermill": {
     "duration": 12.975097,
     "end_time": "2021-07-22T15:34:30.082183",
     "exception": false,
     "start_time": "2021-07-22T15:34:17.107086",
     "status": "completed"
    },
    "tags": []
   },
   "outputs": [],
   "source": [
    "data = pd.read_csv('../input/sf-dst-scoring/train.csv')\n",
    "X_train, X_test, y_train, y_test = split(data)\n",
    "\n",
    "# Построение RandomForest модели c балансировкой\n",
    "scorer = ScorerGen(X_train, y_train)\n",
    "display(scorer.prepare_fit_transform()[0].sample(5))\n",
    "\n",
    "model = RandomForestClassifier(n_estimators=100, max_depth=5,\n",
    "                               class_weight='balanced', random_state=42)\n",
    "\n",
    "scorer.train(model)\n",
    "y_prob = scorer.predict_proba(X_test)\n",
    "base_roc_auc = roc_auc_score(y_test, y_prob)\n",
    "y_pred = scorer.predict(X_test)\n",
    "_ = showMetrics(y_test, y_prob, y_pred)\n",
    "ScorerHistory.add2scores('rf+balanced', y_test, y_pred, y_prob)\n"
   ]
  },
  {
   "cell_type": "code",
   "execution_count": null,
   "metadata": {
    "papermill": {
     "duration": 0.211809,
     "end_time": "2021-07-22T15:35:01.917346",
     "exception": false,
     "start_time": "2021-07-22T15:35:01.705537",
     "status": "completed"
    },
    "tags": []
   },
   "outputs": [],
   "source": [
    "############################################\n",
    "# Выбор модели\n",
    "ScorerHistory.scores_df.sort_values('roc_auc', ascending=False)"
   ]
  },
  {
   "cell_type": "code",
   "execution_count": null,
   "metadata": {
    "papermill": {
     "duration": 31.779248,
     "end_time": "2021-07-22T15:35:33.883431",
     "exception": false,
     "start_time": "2021-07-22T15:35:02.104183",
     "status": "completed"
    },
    "tags": []
   },
   "outputs": [],
   "source": [
    "# Похоже из рассмотренных классификаторов оптимален catboost+gen+roc_auc\n",
    "# но выбираем: LogisticRegression так как xgd и catboost похоже переобучились\n",
    "model = LogisticRegression(C=0.01, max_iter=1000, penalty='l2', solver='saga', class_weight='balanced')\n",
    "sum_pos = sum(y_train)\n",
    "sum_neg = len(y_train) - sum_pos\n",
    "class_weights=[1, sum_neg / sum_pos]\n",
    "model = CatBoostClassifier(iterations=300,\n",
    "                           metric_period=100,\n",
    "                           depth=3,\n",
    "                           l2_leaf_reg=6,\n",
    "                           eval_metric='AUC',\n",
    "                           early_stopping_rounds=10,\n",
    "                           learning_rate=0.05,\n",
    "                           class_weights=class_weights\n",
    "                          )\n"
   ]
  },
  {
   "cell_type": "code",
   "execution_count": null,
   "metadata": {
    "papermill": {
     "duration": 3.089747,
     "end_time": "2021-07-22T15:35:40.825279",
     "exception": false,
     "start_time": "2021-07-22T15:35:37.735532",
     "status": "completed"
    },
    "tags": []
   },
   "outputs": [],
   "source": [
    "train = pd.read_csv('../input/sf-dst-scoring/train.csv')\n",
    "test = pd.read_csv('../input/sf-dst-scoring/test.csv')\n",
    "X_train = train.drop('default', axis=1)\n",
    "y_train = train['default']\n",
    "X_test = test\n",
    "\n",
    "sum_pos = sum(y_train)\n",
    "sum_neg = len(y_train) - sum_pos\n",
    "class_weights=[1, sum_neg / sum_pos]\n",
    "model = CatBoostClassifier(iterations=300,\n",
    "                           metric_period=100,\n",
    "                           random_seed=42,\n",
    "                           depth=3,\n",
    "                           l2_leaf_reg=8,\n",
    "                           eval_metric='AUC',\n",
    "                           early_stopping_rounds=10,\n",
    "                           learning_rate=0.05,\n",
    "                           class_weights=class_weights\n",
    "                          )\n",
    "\n",
    "scorer = ScorerGen(X_train, y_train)\n",
    "model = scorer.train(model)\n",
    "y_prob = scorer.predict_proba(X_test)\n",
    "sample_submission = X_test[['client_id']].copy()\n",
    "sample_submission['default'] = y_prob\n",
    "sample_submission.head()"
   ]
  },
  {
   "cell_type": "code",
   "execution_count": null,
   "metadata": {
    "papermill": {
     "duration": 0.342586,
     "end_time": "2021-07-22T15:35:41.405412",
     "exception": false,
     "start_time": "2021-07-22T15:35:41.062826",
     "status": "completed"
    },
    "tags": []
   },
   "outputs": [],
   "source": [
    "sample_submission.to_csv('submission_cb.csv', index=False)\n",
    "sample_submission.head(10)"
   ]
  },
  {
   "cell_type": "markdown",
   "metadata": {
    "papermill": {
     "duration": 0.194205,
     "end_time": "2021-07-22T15:35:41.793337",
     "exception": false,
     "start_time": "2021-07-22T15:35:41.599132",
     "status": "completed"
    },
    "tags": []
   },
   "source": [
    "## Выводы:\n",
    "Рассмотренные модели дают примерно одинаковый ROC-AUC (0.73+-).\n",
    "Модели с балансировкой классов дают в разы больший F1.\n",
    "Наверное, настройкой гиперпараметров XGD и CatBoost можно добиться улучшения результата, но зато с\n",
    "логистической регрессией работать проще (меньше гиперпараметров).\n",
    "Можно сгенерировать еще признаки (например полиномиальные), но тогда значитльно упадет интерпретируемость модели."
   ]
  },
  {
   "cell_type": "code",
   "execution_count": null,
   "metadata": {},
   "outputs": [],
   "source": []
  }
 ],
 "metadata": {
  "kernelspec": {
   "display_name": "Python 3",
   "language": "python",
   "name": "python3"
  },
  "language_info": {
   "codemirror_mode": {
    "name": "ipython",
    "version": 3
   },
   "file_extension": ".py",
   "mimetype": "text/x-python",
   "name": "python",
   "nbconvert_exporter": "python",
   "pygments_lexer": "ipython3",
   "version": "3.7.10"
  }
 },
 "nbformat": 4,
 "nbformat_minor": 4
}
